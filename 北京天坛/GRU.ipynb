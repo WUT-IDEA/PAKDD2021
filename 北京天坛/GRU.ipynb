{
 "cells": [
  {
   "cell_type": "code",
   "execution_count": 1,
   "metadata": {},
   "outputs": [
    {
     "name": "stderr",
     "output_type": "stream",
     "text": [
      "Using TensorFlow backend.\n"
     ]
    }
   ],
   "source": [
    "from keras.models import Model\n",
    "from keras.layers import Input, Dense, LSTM, multiply, concatenate, Activation, Masking, Reshape,GRU\n",
    "from keras.layers import Conv1D, BatchNormalization, GlobalAveragePooling1D, Permute, Dropout\n",
    "from utils.data_split import split_sequence_parallel\n",
    "\n",
    "import tensorflow as tf\n",
    "import pandas as pd\n",
    "import numpy as np\n",
    "import matplotlib.pyplot as plt\n",
    "\n",
    "# 不加这几句，则CONV 报错\n",
    "physical_devices = tf.config.experimental.list_physical_devices('GPU')\n",
    "assert len(physical_devices) > 0, \"Not enough GPU hardware devices available\"\n",
    "tf.config.experimental.set_memory_growth(physical_devices[0], True)"
   ]
  },
  {
   "cell_type": "code",
   "execution_count": 2,
   "metadata": {},
   "outputs": [],
   "source": [
    "data = pd.read_csv(\"D:\\桌面\\空气质量预测综合\\北京多站点空气质量数据集\\北京天坛\\\\InfoGainTiantandata.csv\", header=0,infer_datetime_format=True, engine='python')\n",
    "data['Unnamed: 0']=pd.to_datetime(data['Unnamed: 0'])\n",
    "data.set_index(\"Unnamed: 0\",inplace=True)"
   ]
  },
  {
   "cell_type": "code",
   "execution_count": 3,
   "metadata": {},
   "outputs": [],
   "source": [
    "'''\n",
    "归一化\n",
    "'''\n",
    "from sklearn.preprocessing import MinMaxScaler\n",
    "scaler1 = MinMaxScaler(feature_range=(0, 1))\n",
    "scaler2 = MinMaxScaler(feature_range=(0, 1))\n",
    "scaler3 = MinMaxScaler(feature_range=(0, 1))\n",
    "scaler4 = MinMaxScaler(feature_range=(0, 1))\n",
    "scaler5 = MinMaxScaler(feature_range=(0, 1))\n",
    "scaler6 = MinMaxScaler(feature_range=(0, 1))\n",
    "scaler7 = MinMaxScaler(feature_range=(0, 1))\n",
    "scaler8 = MinMaxScaler(feature_range=(0, 1))\n",
    "scaler9 = MinMaxScaler(feature_range=(0, 1))\n",
    "scaler10 = MinMaxScaler(feature_range=(0, 1))\n",
    "scaler11 = MinMaxScaler(feature_range=(0, 1))\n",
    "scaler12 = MinMaxScaler(feature_range=(0, 1))\n",
    "scaler13 = MinMaxScaler(feature_range=(0, 1))\n",
    "scaler14 = MinMaxScaler(feature_range=(0, 1))\n",
    "scaler15 = MinMaxScaler(feature_range=(0, 1))\n",
    "data_minmax = data.copy()\n",
    "data_minmax['PM2.5']=scaler1.fit_transform(data_minmax['PM2.5'].values.reshape(-1,1))\n",
    "data_minmax['PM10']=scaler2.fit_transform(data_minmax['PM10'].values.reshape(-1,1))\n",
    "data_minmax['SO2']=scaler3.fit_transform(data_minmax['SO2'].values.reshape(-1,1))\n",
    "data_minmax['NO2']=scaler4.fit_transform(data_minmax['NO2'].values.reshape(-1,1))\n",
    "data_minmax['CO']=scaler5.fit_transform(data_minmax['CO'].values.reshape(-1,1))\n",
    "data_minmax['O3']=scaler6.fit_transform(data_minmax['O3'].values.reshape(-1,1))\n",
    "data_minmax['TEMP']=scaler7.fit_transform(data_minmax['TEMP'].values.reshape(-1,1))\n",
    "data_minmax['PRES']=scaler8.fit_transform(data_minmax['PRES'].values.reshape(-1,1))\n",
    "data_minmax['DEWP']=scaler9.fit_transform(data_minmax['DEWP'].values.reshape(-1,1))\n",
    "data_minmax['wd_E']=scaler10.fit_transform(data_minmax['wd_E'].values.reshape(-1,1))\n",
    "data_minmax['wd_ENE']=scaler11.fit_transform(data_minmax['wd_ENE'].values.reshape(-1,1))\n",
    "data_minmax['wd_ESE']=scaler12.fit_transform(data_minmax['wd_ESE'].values.reshape(-1,1))\n",
    "data_minmax['wd_NE']=scaler13.fit_transform(data_minmax['wd_NE'].values.reshape(-1,1))\n",
    "data_minmax['wd_NW']=scaler14.fit_transform(data_minmax['wd_NW'].values.reshape(-1,1))\n",
    "data_minmax['wd_SW']=scaler15.fit_transform(data_minmax['wd_SW'].values.reshape(-1,1))"
   ]
  },
  {
   "cell_type": "code",
   "execution_count": 4,
   "metadata": {},
   "outputs": [
    {
     "data": {
      "text/plain": [
       "((7320, 15), (1464, 15))"
      ]
     },
     "execution_count": 4,
     "metadata": {},
     "output_type": "execute_result"
    }
   ],
   "source": [
    "'''\n",
    "取一年的时间，10个月做训练和验证，2个月做测试\n",
    "'''\n",
    "cast1 = -10200\n",
    "cast2 = -2880\n",
    "cast3 = -1416                                                                      \n",
    "data_train = data_minmax[cast1:cast2]\n",
    "data_test = data_minmax[cast2:cast3] \n",
    "data_train.shape,data_test.shape"
   ]
  },
  {
   "cell_type": "code",
   "execution_count": 5,
   "metadata": {},
   "outputs": [
    {
     "data": {
      "text/plain": [
       "((7320, 15), (1464, 15))"
      ]
     },
     "execution_count": 5,
     "metadata": {},
     "output_type": "execute_result"
    }
   ],
   "source": [
    "data_test = np.array(data_test)\n",
    "data_train = np.array(data_train)\n",
    "data_train.shape,data_test.shape"
   ]
  },
  {
   "cell_type": "code",
   "execution_count": 6,
   "metadata": {},
   "outputs": [],
   "source": [
    "sw_width = 21\n",
    "pred_length = 12\n",
    "verbose_set = 2\n",
    "X, y, features = split_sequence_parallel(data_train,sw_width,pred_length)\n",
    "test_x,test_y,test_features = split_sequence_parallel(data_test,sw_width,pred_length)"
   ]
  },
  {
   "cell_type": "code",
   "execution_count": 7,
   "metadata": {},
   "outputs": [
    {
     "data": {
      "text/plain": [
       "((7288, 21, 15), (7288, 12), (1464, 15))"
      ]
     },
     "execution_count": 7,
     "metadata": {},
     "output_type": "execute_result"
    }
   ],
   "source": [
    "X.shape,y.shape,data_test.shape"
   ]
  },
  {
   "cell_type": "code",
   "execution_count": 8,
   "metadata": {},
   "outputs": [],
   "source": [
    "def GRU_model():\n",
    "    ip = Input(shape=(sw_width,features))\n",
    "    \n",
    "    x = GRU(100,activation=\"relu\")(ip)\n",
    "#     x = Dense(32,activation=\"relu\")(x)\n",
    "    x = Dropout(0.8)(x)\n",
    "#     x = BatchNormalizati100()(x)\n",
    "\n",
    "    out = Dense(pred_length)(x)\n",
    "\n",
    "    model = Model(ip, out)\n",
    "    model.summary()\n",
    "\n",
    "    # add load model code here to fine-tune\n",
    "\n",
    "    return model"
   ]
  },
  {
   "cell_type": "code",
   "execution_count": 9,
   "metadata": {},
   "outputs": [
    {
     "name": "stdout",
     "output_type": "stream",
     "text": [
      "WARNING:tensorflow:Large dropout rate: 0.8 (>0.5). In TensorFlow 2.x, dropout() uses dropout rate instead of keep_prob. Please ensure that this is intended.\n",
      "Model: \"model_1\"\n",
      "_________________________________________________________________\n",
      "Layer (type)                 Output Shape              Param #   \n",
      "=================================================================\n",
      "input_1 (InputLayer)         (None, 21, 15)            0         \n",
      "_________________________________________________________________\n",
      "gru_1 (GRU)                  (None, 100)               34800     \n",
      "_________________________________________________________________\n",
      "dropout_1 (Dropout)          (None, 100)               0         \n",
      "_________________________________________________________________\n",
      "dense_1 (Dense)              (None, 12)                1212      \n",
      "=================================================================\n",
      "Total params: 36,012\n",
      "Trainable params: 36,012\n",
      "Non-trainable params: 0\n",
      "_________________________________________________________________\n"
     ]
    },
    {
     "data": {
      "text/plain": [
       "<keras.engine.training.Model at 0x24eadd71080>"
      ]
     },
     "execution_count": 9,
     "metadata": {},
     "output_type": "execute_result"
    }
   ],
   "source": [
    "GRU_model1=GRU_model()\n",
    "GRU_model1"
   ]
  },
  {
   "cell_type": "code",
   "execution_count": 10,
   "metadata": {},
   "outputs": [
    {
     "name": "stdout",
     "output_type": "stream",
     "text": [
      "Train on 4882 samples, validate on 2406 samples\n",
      "Epoch 1/100\n",
      " - 5s - loss: 0.0885 - val_loss: 0.0525\n",
      "\n",
      "Epoch 00001: val_loss improved from inf to 0.05249, saving model to D:\\桌面\\空气质量预测综合\\北京多站点空气质量数据集\\北京天坛\\12hourweights\\GRU_model_weights_best.hdf5\n",
      "Epoch 2/100\n",
      " - 5s - loss: 0.0664 - val_loss: 0.0475\n",
      "\n",
      "Epoch 00002: val_loss improved from 0.05249 to 0.04746, saving model to D:\\桌面\\空气质量预测综合\\北京多站点空气质量数据集\\北京天坛\\12hourweights\\GRU_model_weights_best.hdf5\n",
      "Epoch 3/100\n",
      " - 5s - loss: 0.0633 - val_loss: 0.0455\n",
      "\n",
      "Epoch 00003: val_loss improved from 0.04746 to 0.04545, saving model to D:\\桌面\\空气质量预测综合\\北京多站点空气质量数据集\\北京天坛\\12hourweights\\GRU_model_weights_best.hdf5\n",
      "Epoch 4/100\n",
      " - 5s - loss: 0.0621 - val_loss: 0.0423\n",
      "\n",
      "Epoch 00004: val_loss improved from 0.04545 to 0.04228, saving model to D:\\桌面\\空气质量预测综合\\北京多站点空气质量数据集\\北京天坛\\12hourweights\\GRU_model_weights_best.hdf5\n",
      "Epoch 5/100\n",
      " - 5s - loss: 0.0613 - val_loss: 0.0415\n",
      "\n",
      "Epoch 00005: val_loss improved from 0.04228 to 0.04151, saving model to D:\\桌面\\空气质量预测综合\\北京多站点空气质量数据集\\北京天坛\\12hourweights\\GRU_model_weights_best.hdf5\n",
      "Epoch 6/100\n",
      " - 5s - loss: 0.0602 - val_loss: 0.0412\n",
      "\n",
      "Epoch 00006: val_loss improved from 0.04151 to 0.04117, saving model to D:\\桌面\\空气质量预测综合\\北京多站点空气质量数据集\\北京天坛\\12hourweights\\GRU_model_weights_best.hdf5\n",
      "Epoch 7/100\n",
      " - 5s - loss: 0.0594 - val_loss: 0.0395\n",
      "\n",
      "Epoch 00007: val_loss improved from 0.04117 to 0.03951, saving model to D:\\桌面\\空气质量预测综合\\北京多站点空气质量数据集\\北京天坛\\12hourweights\\GRU_model_weights_best.hdf5\n",
      "Epoch 8/100\n",
      " - 5s - loss: 0.0593 - val_loss: 0.0408\n",
      "\n",
      "Epoch 00008: val_loss did not improve from 0.03951\n",
      "Epoch 9/100\n",
      " - 5s - loss: 0.0591 - val_loss: 0.0421\n",
      "\n",
      "Epoch 00009: val_loss did not improve from 0.03951\n",
      "Epoch 10/100\n",
      " - 5s - loss: 0.0588 - val_loss: 0.0403\n",
      "\n",
      "Epoch 00010: val_loss did not improve from 0.03951\n",
      "Epoch 11/100\n",
      " - 4s - loss: 0.0582 - val_loss: 0.0413\n",
      "\n",
      "Epoch 00011: val_loss did not improve from 0.03951\n",
      "Epoch 12/100\n",
      " - 5s - loss: 0.0580 - val_loss: 0.0402\n",
      "\n",
      "Epoch 00012: val_loss did not improve from 0.03951\n",
      "Epoch 13/100\n",
      " - 5s - loss: 0.0582 - val_loss: 0.0393\n",
      "\n",
      "Epoch 00013: val_loss improved from 0.03951 to 0.03926, saving model to D:\\桌面\\空气质量预测综合\\北京多站点空气质量数据集\\北京天坛\\12hourweights\\GRU_model_weights_best.hdf5\n",
      "Epoch 14/100\n",
      " - 5s - loss: 0.0572 - val_loss: 0.0395\n",
      "\n",
      "Epoch 00014: val_loss did not improve from 0.03926\n",
      "Epoch 15/100\n",
      " - 5s - loss: 0.0572 - val_loss: 0.0399\n",
      "\n",
      "Epoch 00015: val_loss did not improve from 0.03926\n",
      "Epoch 16/100\n",
      " - 5s - loss: 0.0572 - val_loss: 0.0402\n",
      "\n",
      "Epoch 00016: val_loss did not improve from 0.03926\n",
      "Epoch 17/100\n",
      " - 5s - loss: 0.0568 - val_loss: 0.0388\n",
      "\n",
      "Epoch 00017: val_loss improved from 0.03926 to 0.03878, saving model to D:\\桌面\\空气质量预测综合\\北京多站点空气质量数据集\\北京天坛\\12hourweights\\GRU_model_weights_best.hdf5\n",
      "Epoch 18/100\n",
      " - 5s - loss: 0.0570 - val_loss: 0.0395\n",
      "\n",
      "Epoch 00018: val_loss did not improve from 0.03878\n",
      "Epoch 19/100\n",
      " - 5s - loss: 0.0574 - val_loss: 0.0390\n",
      "\n",
      "Epoch 00019: val_loss did not improve from 0.03878\n",
      "Epoch 20/100\n",
      " - 5s - loss: 0.0559 - val_loss: 0.0388\n",
      "\n",
      "Epoch 00020: val_loss improved from 0.03878 to 0.03877, saving model to D:\\桌面\\空气质量预测综合\\北京多站点空气质量数据集\\北京天坛\\12hourweights\\GRU_model_weights_best.hdf5\n",
      "Epoch 21/100\n",
      " - 5s - loss: 0.0550 - val_loss: 0.0400\n",
      "\n",
      "Epoch 00021: val_loss did not improve from 0.03877\n",
      "Epoch 22/100\n",
      " - 5s - loss: 0.0565 - val_loss: 0.0404\n",
      "\n",
      "Epoch 00022: val_loss did not improve from 0.03877\n",
      "Epoch 23/100\n",
      " - 5s - loss: 0.0561 - val_loss: 0.0391\n",
      "\n",
      "Epoch 00023: val_loss did not improve from 0.03877\n",
      "Epoch 24/100\n",
      " - 5s - loss: 0.0558 - val_loss: 0.0386\n",
      "\n",
      "Epoch 00024: val_loss improved from 0.03877 to 0.03857, saving model to D:\\桌面\\空气质量预测综合\\北京多站点空气质量数据集\\北京天坛\\12hourweights\\GRU_model_weights_best.hdf5\n",
      "Epoch 25/100\n",
      " - 5s - loss: 0.0555 - val_loss: 0.0382\n",
      "\n",
      "Epoch 00025: val_loss improved from 0.03857 to 0.03825, saving model to D:\\桌面\\空气质量预测综合\\北京多站点空气质量数据集\\北京天坛\\12hourweights\\GRU_model_weights_best.hdf5\n",
      "Epoch 26/100\n",
      " - 5s - loss: 0.0572 - val_loss: 0.0407\n",
      "\n",
      "Epoch 00026: val_loss did not improve from 0.03825\n",
      "Epoch 27/100\n",
      " - 5s - loss: 0.0564 - val_loss: 0.0390\n",
      "\n",
      "Epoch 00027: val_loss did not improve from 0.03825\n",
      "Epoch 28/100\n",
      " - 5s - loss: 0.0550 - val_loss: 0.0398\n",
      "\n",
      "Epoch 00028: val_loss did not improve from 0.03825\n",
      "Epoch 29/100\n",
      " - 5s - loss: 0.0558 - val_loss: 0.0382\n",
      "\n",
      "Epoch 00029: val_loss improved from 0.03825 to 0.03818, saving model to D:\\桌面\\空气质量预测综合\\北京多站点空气质量数据集\\北京天坛\\12hourweights\\GRU_model_weights_best.hdf5\n",
      "Epoch 30/100\n",
      " - 5s - loss: 0.0554 - val_loss: 0.0393\n",
      "\n",
      "Epoch 00030: val_loss did not improve from 0.03818\n",
      "Epoch 31/100\n",
      " - 5s - loss: 0.0549 - val_loss: 0.0394\n",
      "\n",
      "Epoch 00031: val_loss did not improve from 0.03818\n",
      "Epoch 32/100\n",
      " - 5s - loss: 0.0546 - val_loss: 0.0388\n",
      "\n",
      "Epoch 00032: val_loss did not improve from 0.03818\n",
      "Epoch 33/100\n",
      " - 5s - loss: 0.0557 - val_loss: 0.0389\n",
      "\n",
      "Epoch 00033: val_loss did not improve from 0.03818\n",
      "Epoch 34/100\n",
      " - 5s - loss: 0.0546 - val_loss: 0.0401\n",
      "\n",
      "Epoch 00034: val_loss did not improve from 0.03818\n",
      "Epoch 35/100\n",
      " - 5s - loss: 0.0545 - val_loss: 0.0393\n",
      "\n",
      "Epoch 00035: val_loss did not improve from 0.03818\n",
      "Epoch 36/100\n",
      " - 5s - loss: 0.0545 - val_loss: 0.0395\n",
      "\n",
      "Epoch 00036: val_loss did not improve from 0.03818\n",
      "Epoch 37/100\n",
      " - 5s - loss: 0.0542 - val_loss: 0.0393\n",
      "\n",
      "Epoch 00037: val_loss did not improve from 0.03818\n",
      "Epoch 38/100\n",
      " - 5s - loss: 0.0542 - val_loss: 0.0404\n",
      "\n",
      "Epoch 00038: val_loss did not improve from 0.03818\n",
      "Epoch 39/100\n",
      " - 5s - loss: 0.0546 - val_loss: 0.0399\n",
      "\n",
      "Epoch 00039: val_loss did not improve from 0.03818\n",
      "Epoch 40/100\n",
      " - 5s - loss: 0.0546 - val_loss: 0.0408\n",
      "\n",
      "Epoch 00040: val_loss did not improve from 0.03818\n",
      "Epoch 41/100\n",
      " - 5s - loss: 0.0538 - val_loss: 0.0389\n",
      "\n",
      "Epoch 00041: val_loss did not improve from 0.03818\n",
      "Epoch 42/100\n",
      " - 5s - loss: 0.0535 - val_loss: 0.0396\n",
      "\n",
      "Epoch 00042: val_loss did not improve from 0.03818\n",
      "Epoch 43/100\n",
      " - 5s - loss: 0.0540 - val_loss: 0.0421\n",
      "\n",
      "Epoch 00043: val_loss did not improve from 0.03818\n",
      "Epoch 44/100\n",
      " - 5s - loss: 0.0543 - val_loss: 0.0387\n",
      "\n",
      "Epoch 00044: val_loss did not improve from 0.03818\n",
      "Epoch 45/100\n",
      " - 5s - loss: 0.0538 - val_loss: 0.0403\n",
      "\n",
      "Epoch 00045: val_loss did not improve from 0.03818\n",
      "Epoch 46/100\n",
      " - 5s - loss: 0.0530 - val_loss: 0.0399\n",
      "\n",
      "Epoch 00046: val_loss did not improve from 0.03818\n",
      "Epoch 47/100\n",
      " - 6s - loss: 0.0531 - val_loss: 0.0401\n",
      "\n",
      "Epoch 00047: val_loss did not improve from 0.03818\n",
      "Epoch 48/100\n",
      " - 6s - loss: 0.0546 - val_loss: 0.0411\n",
      "\n",
      "Epoch 00048: val_loss did not improve from 0.03818\n",
      "Epoch 49/100\n",
      " - 5s - loss: 0.0533 - val_loss: 0.0407\n",
      "\n",
      "Epoch 00049: val_loss did not improve from 0.03818\n",
      "Epoch 50/100\n",
      " - 5s - loss: 0.0532 - val_loss: 0.0414\n",
      "\n",
      "Epoch 00050: val_loss did not improve from 0.03818\n",
      "Epoch 51/100\n",
      " - 5s - loss: 0.0514 - val_loss: 0.0405\n",
      "\n",
      "Epoch 00051: val_loss did not improve from 0.03818\n",
      "Epoch 52/100\n",
      " - 5s - loss: 0.0520 - val_loss: 0.0410\n",
      "\n",
      "Epoch 00052: val_loss did not improve from 0.03818\n",
      "Epoch 53/100\n",
      " - 5s - loss: 0.0535 - val_loss: 0.0417\n",
      "\n",
      "Epoch 00053: val_loss did not improve from 0.03818\n",
      "Epoch 54/100\n",
      " - 5s - loss: 0.0522 - val_loss: 0.0402\n",
      "\n",
      "Epoch 00054: val_loss did not improve from 0.03818\n",
      "Epoch 55/100\n",
      " - 5s - loss: 0.0508 - val_loss: 0.0398\n",
      "\n",
      "Epoch 00055: val_loss did not improve from 0.03818\n",
      "Epoch 56/100\n",
      " - 5s - loss: 0.0527 - val_loss: 0.0402\n",
      "\n",
      "Epoch 00056: val_loss did not improve from 0.03818\n",
      "Epoch 57/100\n",
      " - 5s - loss: 0.0528 - val_loss: 0.0404\n",
      "\n",
      "Epoch 00057: val_loss did not improve from 0.03818\n",
      "Epoch 58/100\n",
      " - 5s - loss: 0.0511 - val_loss: 0.0404\n",
      "\n",
      "Epoch 00058: val_loss did not improve from 0.03818\n",
      "Epoch 59/100\n",
      " - 5s - loss: 0.0519 - val_loss: 0.0405\n",
      "\n",
      "Epoch 00059: val_loss did not improve from 0.03818\n",
      "Epoch 60/100\n",
      " - 5s - loss: 0.0512 - val_loss: 0.0407\n",
      "\n",
      "Epoch 00060: val_loss did not improve from 0.03818\n",
      "Epoch 61/100\n",
      " - 5s - loss: 0.0511 - val_loss: 0.0402\n",
      "\n",
      "Epoch 00061: val_loss did not improve from 0.03818\n",
      "Epoch 62/100\n",
      " - 5s - loss: 0.0506 - val_loss: 0.0405\n",
      "\n",
      "Epoch 00062: val_loss did not improve from 0.03818\n",
      "Epoch 63/100\n",
      " - 5s - loss: 0.0510 - val_loss: 0.0417\n",
      "\n",
      "Epoch 00063: val_loss did not improve from 0.03818\n",
      "Epoch 64/100\n",
      " - 5s - loss: 0.0503 - val_loss: 0.0409\n",
      "\n",
      "Epoch 00064: val_loss did not improve from 0.03818\n",
      "Epoch 65/100\n",
      " - 5s - loss: 0.0510 - val_loss: 0.0413\n",
      "\n",
      "Epoch 00065: val_loss did not improve from 0.03818\n",
      "Epoch 66/100\n",
      " - 5s - loss: 0.0508 - val_loss: 0.0414\n",
      "\n",
      "Epoch 00066: val_loss did not improve from 0.03818\n",
      "Epoch 67/100\n"
     ]
    },
    {
     "name": "stdout",
     "output_type": "stream",
     "text": [
      " - 5s - loss: 0.0500 - val_loss: 0.0404\n",
      "\n",
      "Epoch 00067: val_loss did not improve from 0.03818\n",
      "Epoch 68/100\n",
      " - 5s - loss: 0.0503 - val_loss: 0.0400\n",
      "\n",
      "Epoch 00068: val_loss did not improve from 0.03818\n",
      "Epoch 69/100\n",
      " - 5s - loss: 0.0523 - val_loss: 0.0423\n",
      "\n",
      "Epoch 00069: val_loss did not improve from 0.03818\n",
      "Epoch 70/100\n",
      " - 5s - loss: 0.0518 - val_loss: 0.0420\n",
      "\n",
      "Epoch 00070: val_loss did not improve from 0.03818\n",
      "Epoch 71/100\n",
      " - 5s - loss: 0.0515 - val_loss: 0.0414\n",
      "\n",
      "Epoch 00071: val_loss did not improve from 0.03818\n",
      "Epoch 72/100\n",
      " - 6s - loss: 0.0506 - val_loss: 0.0405\n",
      "\n",
      "Epoch 00072: val_loss did not improve from 0.03818\n",
      "Epoch 73/100\n",
      " - 5s - loss: 0.0520 - val_loss: 0.0406\n",
      "\n",
      "Epoch 00073: val_loss did not improve from 0.03818\n",
      "Epoch 74/100\n",
      " - 5s - loss: 0.0501 - val_loss: 0.0420\n",
      "\n",
      "Epoch 00074: val_loss did not improve from 0.03818\n",
      "Epoch 75/100\n",
      " - 5s - loss: 0.0502 - val_loss: 0.0418\n",
      "\n",
      "Epoch 00075: val_loss did not improve from 0.03818\n",
      "Epoch 76/100\n",
      " - 5s - loss: 0.0508 - val_loss: 0.0409\n",
      "\n",
      "Epoch 00076: val_loss did not improve from 0.03818\n",
      "Epoch 77/100\n",
      " - 5s - loss: 0.0507 - val_loss: 0.0406\n",
      "\n",
      "Epoch 00077: val_loss did not improve from 0.03818\n",
      "Epoch 78/100\n",
      " - 5s - loss: 0.0508 - val_loss: 0.0415\n",
      "\n",
      "Epoch 00078: val_loss did not improve from 0.03818\n",
      "Epoch 79/100\n",
      " - 5s - loss: 0.0502 - val_loss: 0.0399\n",
      "\n",
      "Epoch 00079: val_loss did not improve from 0.03818\n",
      "Epoch 80/100\n",
      " - 5s - loss: 0.0499 - val_loss: 0.0400\n",
      "\n",
      "Epoch 00080: val_loss did not improve from 0.03818\n",
      "Epoch 81/100\n",
      " - 5s - loss: 0.0498 - val_loss: 0.0405\n",
      "\n",
      "Epoch 00081: val_loss did not improve from 0.03818\n",
      "Epoch 82/100\n",
      " - 5s - loss: 0.0488 - val_loss: 0.0415\n",
      "\n",
      "Epoch 00082: val_loss did not improve from 0.03818\n",
      "Epoch 83/100\n",
      " - 5s - loss: 0.0495 - val_loss: 0.0417\n",
      "\n",
      "Epoch 00083: val_loss did not improve from 0.03818\n",
      "Epoch 84/100\n",
      " - 5s - loss: 0.0498 - val_loss: 0.0412\n",
      "\n",
      "Epoch 00084: val_loss did not improve from 0.03818\n",
      "Epoch 85/100\n",
      " - 5s - loss: 0.0500 - val_loss: 0.0410\n",
      "\n",
      "Epoch 00085: val_loss did not improve from 0.03818\n",
      "Epoch 86/100\n",
      " - 5s - loss: 0.0497 - val_loss: 0.0423\n",
      "\n",
      "Epoch 00086: val_loss did not improve from 0.03818\n",
      "Epoch 87/100\n",
      " - 5s - loss: 0.0506 - val_loss: 0.0407\n",
      "\n",
      "Epoch 00087: val_loss did not improve from 0.03818\n",
      "Epoch 88/100\n",
      " - 5s - loss: 0.0493 - val_loss: 0.0401\n",
      "\n",
      "Epoch 00088: val_loss did not improve from 0.03818\n",
      "Epoch 89/100\n",
      " - 5s - loss: 0.0495 - val_loss: 0.0420\n",
      "\n",
      "Epoch 00089: val_loss did not improve from 0.03818\n",
      "Epoch 90/100\n",
      " - 5s - loss: 0.0500 - val_loss: 0.0404\n",
      "\n",
      "Epoch 00090: val_loss did not improve from 0.03818\n",
      "Epoch 91/100\n",
      " - 5s - loss: 0.0494 - val_loss: 0.0420\n",
      "\n",
      "Epoch 00091: val_loss did not improve from 0.03818\n",
      "Epoch 92/100\n",
      " - 5s - loss: 0.0495 - val_loss: 0.0413\n",
      "\n",
      "Epoch 00092: val_loss did not improve from 0.03818\n",
      "Epoch 93/100\n",
      " - 5s - loss: 0.0490 - val_loss: 0.0412\n",
      "\n",
      "Epoch 00093: val_loss did not improve from 0.03818\n",
      "Epoch 94/100\n",
      " - 5s - loss: 0.0484 - val_loss: 0.0411\n",
      "\n",
      "Epoch 00094: val_loss did not improve from 0.03818\n",
      "Epoch 95/100\n",
      " - 5s - loss: 0.0490 - val_loss: 0.0409\n",
      "\n",
      "Epoch 00095: val_loss did not improve from 0.03818\n",
      "Epoch 96/100\n",
      " - 5s - loss: 0.0488 - val_loss: 0.0425\n",
      "\n",
      "Epoch 00096: val_loss did not improve from 0.03818\n",
      "Epoch 97/100\n",
      " - 4s - loss: 0.0497 - val_loss: 0.0418\n",
      "\n",
      "Epoch 00097: val_loss did not improve from 0.03818\n",
      "Epoch 98/100\n",
      " - 4s - loss: 0.0490 - val_loss: 0.0422\n",
      "\n",
      "Epoch 00098: val_loss did not improve from 0.03818\n",
      "Epoch 99/100\n",
      " - 4s - loss: 0.0494 - val_loss: 0.0424\n",
      "\n",
      "Epoch 00099: val_loss did not improve from 0.03818\n",
      "Epoch 100/100\n",
      " - 4s - loss: 0.0486 - val_loss: 0.0406\n",
      "\n",
      "Epoch 00100: val_loss did not improve from 0.03818\n",
      "程序运行时间为：484.0192 s\n"
     ]
    }
   ],
   "source": [
    "import time\n",
    "from keras import backend as K\n",
    "from keras.callbacks import ModelCheckpoint\n",
    "def root_mean_squared_error(y_true, y_pred):\n",
    "    return K.sqrt(K.mean(K.square(y_pred - y_true))) \n",
    "\n",
    "filepath = \"D:\\桌面\\空气质量预测综合\\北京多站点空气质量数据集\\北京天坛\\\\12hourweights\\GRU_model_weights_best.hdf5\"\n",
    "checkpoint = ModelCheckpoint(filepath, monitor='val_loss', verbose=1, save_best_only=True, mode='min', period=1)\n",
    "callbacks_list = [checkpoint]\n",
    "starttime=time.time()\n",
    "GRU_model1.compile(loss=root_mean_squared_error, optimizer='adam')\n",
    "history1 = GRU_model1.fit(X,y,validation_split=0.33,epochs=100, batch_size=32,callbacks=callbacks_list, verbose=2)\n",
    "endtime=time.time()\n",
    "dtime=endtime-starttime\n",
    "print(\"程序运行时间为：%.8s s\" % dtime)  #时间显示到微秒"
   ]
  },
  {
   "cell_type": "code",
   "execution_count": 11,
   "metadata": {},
   "outputs": [
    {
     "data": {
      "image/png": "[encoded data removed]",
      "text/plain": [
       "<Figure size 1440x1296 with 1 Axes>"
      ]
     },
     "metadata": {},
     "output_type": "display_data"
    }
   ],
   "source": [
    "loss = history1.history['loss']\n",
    "val_loss = history1.history['val_loss']\n",
    "\n",
    "epochs = np.arange(100) + 1\n",
    "plt.figure(figsize=(20,18))\n",
    "plt.plot(epochs, loss, label='loss')\n",
    "plt.plot(epochs, val_loss, label='val_loss')\n",
    "plt.title(\"Effect of model capacity on validation loss\\n\")\n",
    "plt.xlabel('Epoch #')\n",
    "plt.ylabel('Validation Loss')\n",
    "plt.legend()\n",
    "plt.show()"
   ]
  },
  {
   "cell_type": "code",
   "execution_count": 10,
   "metadata": {},
   "outputs": [],
   "source": [
    "filepath = \"D:\\桌面\\空气质量预测综合\\北京多站点空气质量数据集\\北京天坛\\\\12hourweights\\GRU_model_weights_best.hdf5\"\n",
    "GRU_model1.load_weights(filepath)"
   ]
  },
  {
   "cell_type": "code",
   "execution_count": 11,
   "metadata": {},
   "outputs": [],
   "source": [
    "predict=GRU_model1.predict(test_x)\n",
    "predict=scaler1.inverse_transform(predict)"
   ]
  },
  {
   "cell_type": "code",
   "execution_count": 12,
   "metadata": {},
   "outputs": [
    {
     "data": {
      "text/plain": [
       "63.512335495013176"
      ]
     },
     "execution_count": 12,
     "metadata": {},
     "output_type": "execute_result"
    }
   ],
   "source": [
    "tf.sqrt(tf.losses.mean_squared_error(predict,scaler1.inverse_transform(test_y))).numpy().mean()"
   ]
  },
  {
   "cell_type": "code",
   "execution_count": 13,
   "metadata": {},
   "outputs": [
    {
     "data": {
      "text/plain": [
       "57.285017841625645"
      ]
     },
     "execution_count": 13,
     "metadata": {},
     "output_type": "execute_result"
    }
   ],
   "source": [
    "tf.losses.mae(predict,scaler1.inverse_transform(test_y)).numpy().mean()"
   ]
  },
  {
   "cell_type": "code",
   "execution_count": 14,
   "metadata": {
    "scrolled": true
   },
   "outputs": [
    {
     "name": "stdout",
     "output_type": "stream",
     "text": [
      "0 : 50.08977723848894\n",
      "1 : 59.56293791802594\n",
      "2 : 67.90295572724644\n",
      "3 : 74.52853576010696\n",
      "4 : 80.66195388313902\n",
      "5 : 85.54007751232784\n",
      "6 : 89.1594820102579\n"
     ]
    }
   ],
   "source": [
    "for i in range(7):\n",
    "    loss1 = tf.sqrt(tf.losses.mean_squared_error(predict[:,i],scaler1.inverse_transform(test_y)[:,i])).numpy()\n",
    "    print(i,\":\",loss1)"
   ]
  },
  {
   "cell_type": "code",
   "execution_count": 15,
   "metadata": {},
   "outputs": [
    {
     "name": "stdout",
     "output_type": "stream",
     "text": [
      "0 : 5.741143984244632\n",
      "1 : 6.251141685829255\n",
      "2 : 6.696206066782954\n",
      "3 : 7.067507689634662\n",
      "4 : 7.3915069121970385\n",
      "5 : 7.650452154815166\n",
      "6 : 7.866851175433634\n"
     ]
    }
   ],
   "source": [
    "for i in range(7):\n",
    "    loss1 = tf.sqrt(tf.losses.mae(predict[:,i],scaler1.inverse_transform(test_y)[:,i])).numpy()\n",
    "    print(i,\":\",loss1)"
   ]
  },
  {
   "cell_type": "code",
   "execution_count": 16,
   "metadata": {},
   "outputs": [
    {
     "name": "stdout",
     "output_type": "stream",
     "text": [
      "50.36351543981853\n",
      "46.66502331036319\n",
      "71.10088012818612\n",
      "67.90501237288812\n"
     ]
    }
   ],
   "source": [
    "print(tf.sqrt(tf.losses.mean_squared_error(predict[:,:6],scaler1.inverse_transform(test_y)[:,:6])).numpy().mean())\n",
    "print(tf.losses.mae(predict[:,:6],scaler1.inverse_transform(test_y)[:,:6]).numpy().mean())\n",
    "print(tf.sqrt(tf.losses.mean_squared_error(predict[:,6:],scaler1.inverse_transform(test_y)[:,6:])).numpy().mean())\n",
    "print(tf.losses.mae(predict[:,6:],scaler1.inverse_transform(test_y)[:,6:]).numpy().mean())"
   ]
  },
  {
   "cell_type": "code",
   "execution_count": null,
   "metadata": {},
   "outputs": [],
   "source": []
  }
 ],
 "metadata": {
  "kernelspec": {
   "display_name": "Python [conda env:root] *",
   "language": "python",
   "name": "conda-root-py"
  },
  "language_info": {
   "codemirror_mode": {
    "name": "ipython",
    "version": 3
   },
   "file_extension": ".py",
   "mimetype": "text/x-python",
   "name": "python",
   "nbconvert_exporter": "python",
   "pygments_lexer": "ipython3",
   "version": "3.7.3"
  }
 },
 "nbformat": 4,
 "nbformat_minor": 2
}

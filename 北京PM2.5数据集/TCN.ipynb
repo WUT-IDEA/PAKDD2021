{
 "cells": [
  {
   "cell_type": "code",
   "execution_count": 1,
   "metadata": {},
   "outputs": [],
   "source": [
    "import tensorflow as tf\n",
    "import pandas as pd\n",
    "import numpy as np\n",
    "import matplotlib.pyplot as plt\n",
    "\n",
    "from tensorflow.keras.layers import Dense\n",
    "from tensorflow.keras import Input, Model\n",
    "from utils.data_split import split_sequence_parallel\n",
    "from utils.tcn import TCN, tcn_full_summary\n",
    "\n",
    "\n",
    "\n",
    "# 不加这几句，则CONV 报错\n",
    "physical_devices = tf.config.experimental.list_physical_devices('GPU')\n",
    "assert len(physical_devices) > 0, \"Not enough GPU hardware devices available\"\n",
    "tf.config.experimental.set_memory_growth(physical_devices[0], True)\n"
   ]
  },
  {
   "cell_type": "code",
   "execution_count": 2,
   "metadata": {},
   "outputs": [],
   "source": [
    "data = pd.read_csv(\"./data/data_1009.csv\", header=0,infer_datetime_format=True, engine='python')\n",
    "data['Unnamed: 0']=pd.to_datetime(data['Unnamed: 0'])\n",
    "data.set_index(\"Unnamed: 0\",inplace=True)\n",
    "'''\n",
    "归一化\n",
    "'''\n",
    "from sklearn.preprocessing import MinMaxScaler\n",
    "scaler1 = MinMaxScaler(feature_range=(0, 1))\n",
    "scaler2 = MinMaxScaler(feature_range=(0, 1))\n",
    "scaler3 = MinMaxScaler(feature_range=(0, 1))\n",
    "scaler4 = MinMaxScaler(feature_range=(0, 1))\n",
    "scaler5 = MinMaxScaler(feature_range=(0, 1))\n",
    "scaler6 = MinMaxScaler(feature_range=(0, 1))\n",
    "scaler7 = MinMaxScaler(feature_range=(0, 1))\n",
    "scaler8 = MinMaxScaler(feature_range=(0, 1))\n",
    "data_minmax = data.copy()\n",
    "data_minmax['pm2.5']=scaler1.fit_transform(data_minmax['pm2.5'].values.reshape(-1,1))\n",
    "data_minmax['DEWP']=scaler2.fit_transform(data_minmax['DEWP'].values.reshape(-1,1))\n",
    "data_minmax['TEMP']=scaler3.fit_transform(data_minmax['TEMP'].values.reshape(-1,1))\n",
    "data_minmax['PRES']=scaler4.fit_transform(data_minmax['PRES'].values.reshape(-1,1))\n",
    "data_minmax['cbwd_NE']=scaler5.fit_transform(data_minmax['cbwd_NE'].values.reshape(-1,1))\n",
    "data_minmax['cbwd_NW']=scaler6.fit_transform(data_minmax['cbwd_NW'].values.reshape(-1,1))\n",
    "data_minmax['cbwd_SE']=scaler7.fit_transform(data_minmax['cbwd_SE'].values.reshape(-1,1))\n",
    "data_minmax['cbwd_cv']=scaler7.fit_transform(data_minmax['cbwd_cv'].values.reshape(-1,1))"
   ]
  },
  {
   "cell_type": "code",
   "execution_count": 3,
   "metadata": {},
   "outputs": [
    {
     "data": {
      "text/plain": [
       "((7296, 8), (1464, 8))"
      ]
     },
     "execution_count": 3,
     "metadata": {},
     "output_type": "execute_result"
    }
   ],
   "source": [
    "'''\n",
    "取一年的时间，10个月做训练和验证，2个月做测试\n",
    "'''\n",
    "cast1 = 35064\n",
    "cast2 = -1464\n",
    "data_train = data_minmax[cast1:cast2]\n",
    "data_test = data_minmax[cast2:] \n",
    "data_train.shape,data_test.shape"
   ]
  },
  {
   "cell_type": "code",
   "execution_count": 4,
   "metadata": {},
   "outputs": [
    {
     "data": {
      "text/plain": [
       "((7296, 8), (1464, 8))"
      ]
     },
     "execution_count": 4,
     "metadata": {},
     "output_type": "execute_result"
    }
   ],
   "source": [
    "data_train = np.array(data_train)\n",
    "data_test = np.array(data_test)\n",
    "data_train.shape,data_test.shape"
   ]
  },
  {
   "cell_type": "code",
   "execution_count": 5,
   "metadata": {},
   "outputs": [],
   "source": [
    "sw_width = 21\n",
    "pred_length = 12\n",
    "verbose_set = 2\n",
    "X, y, features = split_sequence_parallel(data_train,sw_width,pred_length)\n",
    "test_x,test_y,test_features = split_sequence_parallel(data_test,sw_width,pred_length)"
   ]
  },
  {
   "cell_type": "code",
   "execution_count": 34,
   "metadata": {},
   "outputs": [],
   "source": [
    "def TCN_model():\n",
    "    \n",
    "    ip = Input(shape=(sw_width,features))\n",
    "\n",
    "    x = TCN(return_sequences=False,nb_filters=200,kernel_size=4)(ip)\n",
    "\n",
    "    \n",
    "    out = Dense(pred_length)(x)\n",
    "    model = Model(ip, out)\n",
    "    model.summary()\n",
    "\n",
    "\n",
    "    return model"
   ]
  },
  {
   "cell_type": "code",
   "execution_count": 35,
   "metadata": {},
   "outputs": [
    {
     "name": "stdout",
     "output_type": "stream",
     "text": [
      "Model: \"model_2\"\n",
      "_________________________________________________________________\n",
      "Layer (type)                 Output Shape              Param #   \n",
      "=================================================================\n",
      "input_3 (InputLayer)         [(None, 21, 8)]           0         \n",
      "_________________________________________________________________\n",
      "tcn_2 (TCN)                  (None, 200)               1770600   \n",
      "_________________________________________________________________\n",
      "dense_2 (Dense)              (None, 12)                2412      \n",
      "=================================================================\n",
      "Total params: 1,773,012\n",
      "Trainable params: 1,773,012\n",
      "Non-trainable params: 0\n",
      "_________________________________________________________________\n"
     ]
    }
   ],
   "source": [
    "TCN_model1 = TCN_model()"
   ]
  },
  {
   "cell_type": "code",
   "execution_count": 36,
   "metadata": {},
   "outputs": [],
   "source": [
    "import time\n",
    "from keras import backend as K\n",
    "from keras.callbacks import ModelCheckpoint,LearningRateScheduler,ReduceLROnPlateau\n",
    "# from utils.lr_process import lr_schedule\n",
    "def root_mean_squared_error(y_true, y_pred):\n",
    "    return K.sqrt(K.mean(K.square(y_pred - y_true))) \n",
    "\n",
    "# lr_scheduler = LearningRateScheduler(lr_schedule)\n",
    "# lr_reducer = ReduceLROnPlateau(factor=np.sqrt(0.1),\n",
    "#                                cooldown=0,\n",
    "#                                patience=5,\n",
    "#                                min_lr=0.5e-6)\n",
    "\n",
    "filepath = \"D:\\桌面\\空气质量预测综合\\北京PM2.5数据集\\多步预测\\\\12hourweights\\TCN_model_weights_best.hdf5\"\n",
    "\n",
    "checkpoint = ModelCheckpoint(filepath, monitor='val_loss', verbose=1, save_best_only=True, mode='min', period=1)\n",
    "callbacks_list = [checkpoint]"
   ]
  },
  {
   "cell_type": "code",
   "execution_count": 37,
   "metadata": {
    "scrolled": true
   },
   "outputs": [
    {
     "name": "stdout",
     "output_type": "stream",
     "text": [
      "Train on 5448 samples, validate on 1816 samples\n",
      "Epoch 1/60\n",
      "\n",
      "Epoch 00001: val_loss improved from inf to 0.05958, saving model to D:\\桌面\\空气质量预测综合\\北京PM2.5数据集\\多步预测\\12hourweights\\TCN_model_weights_best.hdf5\n",
      "5448/5448 - 6s - loss: 0.1516 - val_loss: 0.0596\n",
      "Epoch 2/60\n",
      "\n",
      "Epoch 00002: val_loss improved from 0.05958 to 0.05433, saving model to D:\\桌面\\空气质量预测综合\\北京PM2.5数据集\\多步预测\\12hourweights\\TCN_model_weights_best.hdf5\n",
      "5448/5448 - 3s - loss: 0.0621 - val_loss: 0.0543\n",
      "Epoch 3/60\n",
      "\n",
      "Epoch 00003: val_loss improved from 0.05433 to 0.05204, saving model to D:\\桌面\\空气质量预测综合\\北京PM2.5数据集\\多步预测\\12hourweights\\TCN_model_weights_best.hdf5\n",
      "5448/5448 - 3s - loss: 0.0568 - val_loss: 0.0520\n",
      "Epoch 4/60\n",
      "\n",
      "Epoch 00004: val_loss improved from 0.05204 to 0.05008, saving model to D:\\桌面\\空气质量预测综合\\北京PM2.5数据集\\多步预测\\12hourweights\\TCN_model_weights_best.hdf5\n",
      "5448/5448 - 3s - loss: 0.0551 - val_loss: 0.0501\n",
      "Epoch 5/60\n",
      "\n",
      "Epoch 00005: val_loss improved from 0.05008 to 0.04866, saving model to D:\\桌面\\空气质量预测综合\\北京PM2.5数据集\\多步预测\\12hourweights\\TCN_model_weights_best.hdf5\n",
      "5448/5448 - 3s - loss: 0.0539 - val_loss: 0.0487\n",
      "Epoch 6/60\n",
      "\n",
      "Epoch 00006: val_loss improved from 0.04866 to 0.04805, saving model to D:\\桌面\\空气质量预测综合\\北京PM2.5数据集\\多步预测\\12hourweights\\TCN_model_weights_best.hdf5\n",
      "5448/5448 - 3s - loss: 0.0526 - val_loss: 0.0481\n",
      "Epoch 7/60\n",
      "\n",
      "Epoch 00007: val_loss did not improve from 0.04805\n",
      "5448/5448 - 3s - loss: 0.0514 - val_loss: 0.0518\n",
      "Epoch 8/60\n",
      "\n",
      "Epoch 00008: val_loss improved from 0.04805 to 0.04568, saving model to D:\\桌面\\空气质量预测综合\\北京PM2.5数据集\\多步预测\\12hourweights\\TCN_model_weights_best.hdf5\n",
      "5448/5448 - 3s - loss: 0.0513 - val_loss: 0.0457\n",
      "Epoch 9/60\n",
      "\n",
      "Epoch 00009: val_loss did not improve from 0.04568\n",
      "5448/5448 - 3s - loss: 0.0504 - val_loss: 0.0488\n",
      "Epoch 10/60\n",
      "\n",
      "Epoch 00010: val_loss did not improve from 0.04568\n",
      "5448/5448 - 3s - loss: 0.0490 - val_loss: 0.0467\n",
      "Epoch 11/60\n",
      "\n",
      "Epoch 00011: val_loss did not improve from 0.04568\n",
      "5448/5448 - 3s - loss: 0.0493 - val_loss: 0.0485\n",
      "Epoch 12/60\n",
      "\n",
      "Epoch 00012: val_loss did not improve from 0.04568\n",
      "5448/5448 - 3s - loss: 0.0472 - val_loss: 0.0505\n",
      "Epoch 13/60\n",
      "\n",
      "Epoch 00013: val_loss did not improve from 0.04568\n",
      "5448/5448 - 3s - loss: 0.0473 - val_loss: 0.0497\n",
      "Epoch 14/60\n",
      "\n",
      "Epoch 00014: val_loss did not improve from 0.04568\n",
      "5448/5448 - 3s - loss: 0.0460 - val_loss: 0.0471\n",
      "Epoch 15/60\n",
      "\n",
      "Epoch 00015: val_loss did not improve from 0.04568\n",
      "5448/5448 - 3s - loss: 0.0457 - val_loss: 0.0492\n",
      "Epoch 16/60\n",
      "\n",
      "Epoch 00016: val_loss did not improve from 0.04568\n",
      "5448/5448 - 3s - loss: 0.0449 - val_loss: 0.0471\n",
      "Epoch 17/60\n",
      "\n",
      "Epoch 00017: val_loss did not improve from 0.04568\n",
      "5448/5448 - 3s - loss: 0.0444 - val_loss: 0.0550\n",
      "Epoch 18/60\n",
      "\n",
      "Epoch 00018: val_loss did not improve from 0.04568\n",
      "5448/5448 - 3s - loss: 0.0440 - val_loss: 0.0530\n",
      "Epoch 19/60\n",
      "\n",
      "Epoch 00019: val_loss did not improve from 0.04568\n",
      "5448/5448 - 3s - loss: 0.0430 - val_loss: 0.0465\n",
      "Epoch 20/60\n",
      "\n",
      "Epoch 00020: val_loss did not improve from 0.04568\n",
      "5448/5448 - 3s - loss: 0.0416 - val_loss: 0.0490\n",
      "Epoch 21/60\n",
      "\n",
      "Epoch 00021: val_loss did not improve from 0.04568\n",
      "5448/5448 - 3s - loss: 0.0415 - val_loss: 0.0507\n",
      "Epoch 22/60\n",
      "\n",
      "Epoch 00022: val_loss did not improve from 0.04568\n",
      "5448/5448 - 3s - loss: 0.0410 - val_loss: 0.0485\n",
      "Epoch 23/60\n",
      "\n",
      "Epoch 00023: val_loss did not improve from 0.04568\n",
      "5448/5448 - 3s - loss: 0.0406 - val_loss: 0.0481\n",
      "Epoch 24/60\n",
      "\n",
      "Epoch 00024: val_loss did not improve from 0.04568\n",
      "5448/5448 - 3s - loss: 0.0399 - val_loss: 0.0479\n",
      "Epoch 25/60\n",
      "\n",
      "Epoch 00025: val_loss did not improve from 0.04568\n",
      "5448/5448 - 3s - loss: 0.0391 - val_loss: 0.0496\n",
      "Epoch 26/60\n",
      "\n",
      "Epoch 00026: val_loss did not improve from 0.04568\n",
      "5448/5448 - 3s - loss: 0.0376 - val_loss: 0.0488\n",
      "Epoch 27/60\n",
      "\n",
      "Epoch 00027: val_loss did not improve from 0.04568\n",
      "5448/5448 - 3s - loss: 0.0362 - val_loss: 0.0481\n",
      "Epoch 28/60\n",
      "\n",
      "Epoch 00028: val_loss did not improve from 0.04568\n",
      "5448/5448 - 3s - loss: 0.0362 - val_loss: 0.0472\n",
      "Epoch 29/60\n",
      "\n",
      "Epoch 00029: val_loss did not improve from 0.04568\n",
      "5448/5448 - 3s - loss: 0.0352 - val_loss: 0.0490\n",
      "Epoch 30/60\n",
      "\n",
      "Epoch 00030: val_loss did not improve from 0.04568\n",
      "5448/5448 - 3s - loss: 0.0344 - val_loss: 0.0477\n",
      "Epoch 31/60\n",
      "\n",
      "Epoch 00031: val_loss did not improve from 0.04568\n",
      "5448/5448 - 3s - loss: 0.0341 - val_loss: 0.0520\n",
      "Epoch 32/60\n",
      "\n",
      "Epoch 00032: val_loss did not improve from 0.04568\n",
      "5448/5448 - 3s - loss: 0.0336 - val_loss: 0.0504\n",
      "Epoch 33/60\n",
      "\n",
      "Epoch 00033: val_loss did not improve from 0.04568\n",
      "5448/5448 - 3s - loss: 0.0326 - val_loss: 0.0510\n",
      "Epoch 34/60\n",
      "\n",
      "Epoch 00034: val_loss did not improve from 0.04568\n",
      "5448/5448 - 3s - loss: 0.0319 - val_loss: 0.0478\n",
      "Epoch 35/60\n",
      "\n",
      "Epoch 00035: val_loss did not improve from 0.04568\n",
      "5448/5448 - 3s - loss: 0.0319 - val_loss: 0.0491\n",
      "Epoch 36/60\n",
      "\n",
      "Epoch 00036: val_loss did not improve from 0.04568\n",
      "5448/5448 - 3s - loss: 0.0306 - val_loss: 0.0511\n",
      "Epoch 37/60\n",
      "\n",
      "Epoch 00037: val_loss did not improve from 0.04568\n",
      "5448/5448 - 3s - loss: 0.0300 - val_loss: 0.0508\n",
      "Epoch 38/60\n",
      "\n",
      "Epoch 00038: val_loss did not improve from 0.04568\n",
      "5448/5448 - 3s - loss: 0.0302 - val_loss: 0.0482\n",
      "Epoch 39/60\n",
      "\n",
      "Epoch 00039: val_loss did not improve from 0.04568\n",
      "5448/5448 - 3s - loss: 0.0294 - val_loss: 0.0508\n",
      "Epoch 40/60\n",
      "\n",
      "Epoch 00040: val_loss did not improve from 0.04568\n",
      "5448/5448 - 3s - loss: 0.0290 - val_loss: 0.0530\n",
      "Epoch 41/60\n",
      "\n",
      "Epoch 00041: val_loss did not improve from 0.04568\n",
      "5448/5448 - 3s - loss: 0.0286 - val_loss: 0.0509\n",
      "Epoch 42/60\n",
      "\n",
      "Epoch 00042: val_loss did not improve from 0.04568\n",
      "5448/5448 - 3s - loss: 0.0282 - val_loss: 0.0519\n",
      "Epoch 43/60\n",
      "\n",
      "Epoch 00043: val_loss did not improve from 0.04568\n",
      "5448/5448 - 3s - loss: 0.0273 - val_loss: 0.0527\n",
      "Epoch 44/60\n",
      "\n",
      "Epoch 00044: val_loss did not improve from 0.04568\n",
      "5448/5448 - 3s - loss: 0.0272 - val_loss: 0.0541\n",
      "Epoch 45/60\n",
      "\n",
      "Epoch 00045: val_loss did not improve from 0.04568\n",
      "5448/5448 - 3s - loss: 0.0272 - val_loss: 0.0519\n",
      "Epoch 46/60\n",
      "\n",
      "Epoch 00046: val_loss did not improve from 0.04568\n",
      "5448/5448 - 3s - loss: 0.0262 - val_loss: 0.0501\n",
      "Epoch 47/60\n",
      "\n",
      "Epoch 00047: val_loss did not improve from 0.04568\n",
      "5448/5448 - 3s - loss: 0.0254 - val_loss: 0.0505\n",
      "Epoch 48/60\n",
      "\n",
      "Epoch 00048: val_loss did not improve from 0.04568\n",
      "5448/5448 - 3s - loss: 0.0261 - val_loss: 0.0517\n",
      "Epoch 49/60\n",
      "\n",
      "Epoch 00049: val_loss did not improve from 0.04568\n",
      "5448/5448 - 3s - loss: 0.0252 - val_loss: 0.0508\n",
      "Epoch 50/60\n",
      "\n",
      "Epoch 00050: val_loss did not improve from 0.04568\n",
      "5448/5448 - 3s - loss: 0.0250 - val_loss: 0.0505\n",
      "Epoch 51/60\n",
      "\n",
      "Epoch 00051: val_loss did not improve from 0.04568\n",
      "5448/5448 - 3s - loss: 0.0245 - val_loss: 0.0522\n",
      "Epoch 52/60\n",
      "\n",
      "Epoch 00052: val_loss did not improve from 0.04568\n",
      "5448/5448 - 3s - loss: 0.0246 - val_loss: 0.0521\n",
      "Epoch 53/60\n",
      "\n",
      "Epoch 00053: val_loss did not improve from 0.04568\n",
      "5448/5448 - 3s - loss: 0.0241 - val_loss: 0.0506\n",
      "Epoch 54/60\n",
      "\n",
      "Epoch 00054: val_loss did not improve from 0.04568\n",
      "5448/5448 - 3s - loss: 0.0233 - val_loss: 0.0505\n",
      "Epoch 55/60\n",
      "\n",
      "Epoch 00055: val_loss did not improve from 0.04568\n",
      "5448/5448 - 3s - loss: 0.0232 - val_loss: 0.0501\n",
      "Epoch 56/60\n",
      "\n",
      "Epoch 00056: val_loss did not improve from 0.04568\n",
      "5448/5448 - 3s - loss: 0.0234 - val_loss: 0.0504\n",
      "Epoch 57/60\n",
      "\n",
      "Epoch 00057: val_loss did not improve from 0.04568\n",
      "5448/5448 - 3s - loss: 0.0226 - val_loss: 0.0506\n",
      "Epoch 58/60\n",
      "\n",
      "Epoch 00058: val_loss did not improve from 0.04568\n",
      "5448/5448 - 3s - loss: 0.0231 - val_loss: 0.0520\n",
      "Epoch 59/60\n",
      "\n",
      "Epoch 00059: val_loss did not improve from 0.04568\n",
      "5448/5448 - 3s - loss: 0.0228 - val_loss: 0.0526\n",
      "Epoch 60/60\n",
      "\n",
      "Epoch 00060: val_loss did not improve from 0.04568\n",
      "5448/5448 - 3s - loss: 0.0223 - val_loss: 0.0527\n",
      "程序运行时间为：184.0706 s\n"
     ]
    }
   ],
   "source": [
    "starttime=time.time()\n",
    "TCN_model1.compile(loss=root_mean_squared_error, optimizer='adam')\n",
    "history1 = TCN_model1.fit(X,y,validation_split=0.25,epochs=60, batch_size=32,callbacks=callbacks_list, verbose=2)\n",
    "endtime=time.time()\n",
    "dtime=endtime-starttime\n",
    "print(\"程序运行时间为：%.8s s\" % dtime)  #时间显示到微秒"
   ]
  },
  {
   "cell_type": "code",
   "execution_count": 38,
   "metadata": {},
   "outputs": [
    {
     "data": {
      "image/png": "[encoded data removed]",
      "text/plain": [
       "<Figure size 1440x1296 with 1 Axes>"
      ]
     },
     "metadata": {},
     "output_type": "display_data"
    }
   ],
   "source": [
    "loss = history1.history['loss']\n",
    "val_loss = history1.history['val_loss']\n",
    "\n",
    "epochs = np.arange(60) + 1\n",
    "plt.figure(figsize=(20,18))\n",
    "plt.plot(epochs, loss, label='loss')\n",
    "plt.plot(epochs, val_loss, label='val_loss')\n",
    "plt.title(\"Effect of model capacity on validation loss\\n\")\n",
    "plt.xlabel('Epoch #')\n",
    "plt.ylabel('Validation Loss')\n",
    "plt.legend()\n",
    "plt.show()"
   ]
  },
  {
   "cell_type": "code",
   "execution_count": 39,
   "metadata": {},
   "outputs": [],
   "source": [
    "TCN_model1.load_weights(filepath)"
   ]
  },
  {
   "cell_type": "code",
   "execution_count": 40,
   "metadata": {},
   "outputs": [],
   "source": [
    "predict=TCN_model1.predict(test_x)\n",
    "predict=scaler1.inverse_transform(predict.reshape(predict.shape[0],predict.shape[1]))"
   ]
  },
  {
   "cell_type": "code",
   "execution_count": 41,
   "metadata": {},
   "outputs": [
    {
     "data": {
      "text/plain": [
       "55.50858640971194"
      ]
     },
     "execution_count": 41,
     "metadata": {},
     "output_type": "execute_result"
    }
   ],
   "source": [
    "tf.sqrt(tf.losses.mean_squared_error(predict,scaler1.inverse_transform(test_y))).numpy().mean()"
   ]
  },
  {
   "cell_type": "code",
   "execution_count": 42,
   "metadata": {},
   "outputs": [],
   "source": [
    "filepath = \"D:\\桌面\\空气质量预测综合\\北京PM2.5数据集\\多步预测\\\\12hourweights\\TCN_model_weights_best.hdf5\"\n",
    "TCN_model1.load_weights(filepath)"
   ]
  },
  {
   "cell_type": "code",
   "execution_count": 43,
   "metadata": {},
   "outputs": [],
   "source": [
    "predict=TCN_model1.predict(test_x)\n",
    "predict=scaler1.inverse_transform(predict.reshape(predict.shape[0],predict.shape[1]))"
   ]
  },
  {
   "cell_type": "code",
   "execution_count": 44,
   "metadata": {},
   "outputs": [
    {
     "data": {
      "text/plain": [
       "55.50858640971194"
      ]
     },
     "execution_count": 44,
     "metadata": {},
     "output_type": "execute_result"
    }
   ],
   "source": [
    "tf.sqrt(tf.losses.mean_squared_error(predict,scaler1.inverse_transform(test_y))).numpy().mean()"
   ]
  },
  {
   "cell_type": "code",
   "execution_count": 45,
   "metadata": {},
   "outputs": [
    {
     "data": {
      "text/plain": [
       "47.32186968298196"
      ]
     },
     "execution_count": 45,
     "metadata": {},
     "output_type": "execute_result"
    }
   ],
   "source": [
    "tf.losses.mae(predict,scaler1.inverse_transform(test_y)).numpy().mean()"
   ]
  },
  {
   "cell_type": "code",
   "execution_count": 15,
   "metadata": {},
   "outputs": [
    {
     "name": "stdout",
     "output_type": "stream",
     "text": [
      "0 : 26.633108285699183\n",
      "1 : 41.230978098839515\n",
      "2 : 52.434434319652006\n",
      "3 : 59.165803514474696\n",
      "4 : 68.60176551861699\n",
      "5 : 74.1741070389198\n",
      "6 : 78.67280584903567\n"
     ]
    }
   ],
   "source": [
    "for i in range(7):\n",
    "    loss1 = tf.sqrt(tf.losses.mean_squared_error(predict[:,i],scaler1.inverse_transform(test_y)[:,i])).numpy()\n",
    "    print(i,\":\",loss1)"
   ]
  },
  {
   "cell_type": "code",
   "execution_count": 16,
   "metadata": {},
   "outputs": [
    {
     "name": "stdout",
     "output_type": "stream",
     "text": [
      "0 : 4.08006519988547\n",
      "1 : 5.128589926666524\n",
      "2 : 5.758342817102427\n",
      "3 : 6.104568136804925\n",
      "4 : 6.717375248284704\n",
      "5 : 7.104174047301022\n",
      "6 : 7.272749121091096\n"
     ]
    }
   ],
   "source": [
    "for i in range(7):\n",
    "    loss1 = tf.sqrt(tf.losses.mae(predict[:,i],scaler1.inverse_transform(test_y)[:,i])).numpy()\n",
    "    print(i,\":\",loss1)"
   ]
  },
  {
   "cell_type": "code",
   "execution_count": null,
   "metadata": {},
   "outputs": [],
   "source": []
  }
 ],
 "metadata": {
  "kernelspec": {
   "display_name": "Python 3 (ipykernel)",
   "language": "python",
   "name": "python3"
  },
  "language_info": {
   "codemirror_mode": {
    "name": "ipython",
    "version": 3
   },
   "file_extension": ".py",
   "mimetype": "text/x-python",
   "name": "python",
   "nbconvert_exporter": "python",
   "pygments_lexer": "ipython3",
   "version": "3.7.11"
  }
 },
 "nbformat": 4,
 "nbformat_minor": 2
}

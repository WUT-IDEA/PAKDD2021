{
 "cells": [
  {
   "cell_type": "code",
   "execution_count": 1,
   "metadata": {},
   "outputs": [
    {
     "name": "stderr",
     "output_type": "stream",
     "text": [
      "Using TensorFlow backend.\n"
     ]
    }
   ],
   "source": [
    "from keras.models import Model\n",
    "from keras.layers import Input, Dense, LSTM, multiply, concatenate, Activation, Masking, Reshape,RepeatVector,GRU\n",
    "from keras.layers import Conv1D, BatchNormalization, GlobalAveragePooling1D, Permute, Dropout,MaxPooling1D,AveragePooling1D,Flatten,Bidirectional\n",
    "\n",
    "\n",
    "import tensorflow as tf\n",
    "import pandas as pd\n",
    "import numpy as np\n",
    "import matplotlib.pyplot as plt\n",
    "from utils.data_split import split_sequence_parallel\n",
    "\n",
    "# 不加这几句，则CONV 报错\n",
    "physical_devices = tf.config.experimental.list_physical_devices('GPU')\n",
    "assert len(physical_devices) > 0, \"Not enough GPU hardware devices available\"\n",
    "tf.config.experimental.set_memory_growth(physical_devices[0], True)"
   ]
  },
  {
   "cell_type": "code",
   "execution_count": 2,
   "metadata": {},
   "outputs": [],
   "source": [
    "data = pd.read_csv(\"./data/data_1009.csv\", header=0,infer_datetime_format=True, engine='python')\n",
    "data['Unnamed: 0']=pd.to_datetime(data['Unnamed: 0'])\n",
    "data.set_index(\"Unnamed: 0\",inplace=True)"
   ]
  },
  {
   "cell_type": "code",
   "execution_count": 3,
   "metadata": {},
   "outputs": [],
   "source": [
    "'''\n",
    "归一化\n",
    "'''\n",
    "from sklearn.preprocessing import MinMaxScaler\n",
    "scaler1 = MinMaxScaler(feature_range=(0, 1))\n",
    "scaler2 = MinMaxScaler(feature_range=(0, 1))\n",
    "scaler3 = MinMaxScaler(feature_range=(0, 1))\n",
    "scaler4 = MinMaxScaler(feature_range=(0, 1))\n",
    "scaler5 = MinMaxScaler(feature_range=(0, 1))\n",
    "scaler6 = MinMaxScaler(feature_range=(0, 1))\n",
    "scaler7 = MinMaxScaler(feature_range=(0, 1))\n",
    "scaler8 = MinMaxScaler(feature_range=(0, 1))\n",
    "data_minmax = data.copy()\n",
    "data_minmax['pm2.5']=scaler1.fit_transform(data_minmax['pm2.5'].values.reshape(-1,1))\n",
    "data_minmax['DEWP']=scaler2.fit_transform(data_minmax['DEWP'].values.reshape(-1,1))\n",
    "data_minmax['TEMP']=scaler3.fit_transform(data_minmax['TEMP'].values.reshape(-1,1))\n",
    "data_minmax['PRES']=scaler4.fit_transform(data_minmax['PRES'].values.reshape(-1,1))\n",
    "data_minmax['cbwd_NE']=scaler5.fit_transform(data_minmax['cbwd_NE'].values.reshape(-1,1))\n",
    "data_minmax['cbwd_NW']=scaler6.fit_transform(data_minmax['cbwd_NW'].values.reshape(-1,1))\n",
    "data_minmax['cbwd_SE']=scaler7.fit_transform(data_minmax['cbwd_SE'].values.reshape(-1,1))\n",
    "data_minmax['cbwd_cv']=scaler7.fit_transform(data_minmax['cbwd_cv'].values.reshape(-1,1))"
   ]
  },
  {
   "cell_type": "code",
   "execution_count": 4,
   "metadata": {},
   "outputs": [
    {
     "data": {
      "text/plain": [
       "((7296, 8), (1464, 8))"
      ]
     },
     "execution_count": 4,
     "metadata": {},
     "output_type": "execute_result"
    }
   ],
   "source": [
    "'''\n",
    "取一年的时间，10个月做训练和验证，2个月做测试\n",
    "'''\n",
    "cast1 = 35064\n",
    "cast2 = -1464\n",
    "data_train = data_minmax[cast1:cast2]\n",
    "data_test = data_minmax[cast2:] \n",
    "data_train.shape,data_test.shape"
   ]
  },
  {
   "cell_type": "code",
   "execution_count": 5,
   "metadata": {},
   "outputs": [
    {
     "data": {
      "text/plain": [
       "((7296, 8), (1464, 8))"
      ]
     },
     "execution_count": 5,
     "metadata": {},
     "output_type": "execute_result"
    }
   ],
   "source": [
    "data_train = np.array(data_train)\n",
    "data_test = np.array(data_test)\n",
    "data_train.shape,data_test.shape"
   ]
  },
  {
   "cell_type": "code",
   "execution_count": 6,
   "metadata": {},
   "outputs": [],
   "source": [
    "from utils.data_split import split_sequence_parallel"
   ]
  },
  {
   "cell_type": "code",
   "execution_count": 7,
   "metadata": {},
   "outputs": [],
   "source": [
    "sw_width = 21\n",
    "pred_length = 12\n",
    "verbose_set = 2\n",
    "X, y, features = split_sequence_parallel(data_train,sw_width,pred_length)\n",
    "test_x,test_y,test_features = split_sequence_parallel(data_test,sw_width,pred_length)"
   ]
  },
  {
   "cell_type": "code",
   "execution_count": 8,
   "metadata": {},
   "outputs": [],
   "source": [
    "def GRU_model():\n",
    "#     ip = Input(shape=(MAX_NB_VARIABLES, MAX_TIMESTEPS))\n",
    "    ip = Input(shape=(sw_width,features))\n",
    "\n",
    "    x = GRU(200,activation='relu')(ip)\n",
    "#     x = BatchNormalization()(x)\n",
    "    x = Dropout(0.8)(x)\n",
    "\n",
    "    \n",
    "    out = Dense(pred_length)(x)\n",
    "\n",
    "    model = Model(ip, out)\n",
    "    model.summary()\n",
    "\n",
    "\n",
    "    return model"
   ]
  },
  {
   "cell_type": "code",
   "execution_count": 9,
   "metadata": {},
   "outputs": [
    {
     "name": "stdout",
     "output_type": "stream",
     "text": [
      "WARNING:tensorflow:Large dropout rate: 0.8 (>0.5). In TensorFlow 2.x, dropout() uses dropout rate instead of keep_prob. Please ensure that this is intended.\n",
      "Model: \"model_1\"\n",
      "_________________________________________________________________\n",
      "Layer (type)                 Output Shape              Param #   \n",
      "=================================================================\n",
      "input_1 (InputLayer)         (None, 21, 8)             0         \n",
      "_________________________________________________________________\n",
      "gru_1 (GRU)                  (None, 200)               125400    \n",
      "_________________________________________________________________\n",
      "dropout_1 (Dropout)          (None, 200)               0         \n",
      "_________________________________________________________________\n",
      "dense_1 (Dense)              (None, 12)                2412      \n",
      "=================================================================\n",
      "Total params: 127,812\n",
      "Trainable params: 127,812\n",
      "Non-trainable params: 0\n",
      "_________________________________________________________________\n"
     ]
    },
    {
     "data": {
      "text/plain": [
       "<keras.engine.training.Model at 0x1b618221c50>"
      ]
     },
     "execution_count": 9,
     "metadata": {},
     "output_type": "execute_result"
    }
   ],
   "source": [
    "GRU_model1 = GRU_model()\n",
    "GRU_model1"
   ]
  },
  {
   "cell_type": "code",
   "execution_count": 10,
   "metadata": {},
   "outputs": [],
   "source": [
    "import time\n",
    "from keras import backend as K\n",
    "from keras.callbacks import ModelCheckpoint,LearningRateScheduler,ReduceLROnPlateau\n",
    "# from utils.lr_process import lr_schedule\n",
    "def root_mean_squared_error(y_true, y_pred):\n",
    "    return K.sqrt(K.mean(K.square(y_pred - y_true))) \n",
    "\n",
    "# lr_scheduler = LearningRateScheduler(lr_schedule)\n",
    "# lr_reducer = ReduceLROnPlateau(factor=np.sqrt(0.1),\n",
    "#                                cooldown=0,\n",
    "#                                patience=5,\n",
    "#                                min_lr=0.5e-6)\n",
    "\n",
    "filepath = \"D:\\桌面\\空气质量预测综合\\北京PM2.5数据集\\多步预测\\\\12hourweights\\GRU_model_weights_best.hdf5\"\n",
    "\n",
    "checkpoint = ModelCheckpoint(filepath, monitor='val_loss', verbose=1, save_best_only=True, mode='min', period=1)\n",
    "callbacks_list = [checkpoint]"
   ]
  },
  {
   "cell_type": "code",
   "execution_count": 11,
   "metadata": {},
   "outputs": [
    {
     "name": "stdout",
     "output_type": "stream",
     "text": [
      "Train on 5448 samples, validate on 1816 samples\n",
      "Epoch 1/100\n",
      " - 5s - loss: 0.0836 - val_loss: 0.0515\n",
      "\n",
      "Epoch 00001: val_loss improved from inf to 0.05150, saving model to D:\\桌面\\空气质量预测综合\\北京PM2.5数据集\\多步预测\\12hourweights\\GRU_model_weights_best.hdf5\n",
      "Epoch 2/100\n",
      " - 4s - loss: 0.0652 - val_loss: 0.0487\n",
      "\n",
      "Epoch 00002: val_loss improved from 0.05150 to 0.04869, saving model to D:\\桌面\\空气质量预测综合\\北京PM2.5数据集\\多步预测\\12hourweights\\GRU_model_weights_best.hdf5\n",
      "Epoch 3/100\n",
      " - 4s - loss: 0.0636 - val_loss: 0.0495\n",
      "\n",
      "Epoch 00003: val_loss did not improve from 0.04869\n",
      "Epoch 4/100\n",
      " - 4s - loss: 0.0623 - val_loss: 0.0474\n",
      "\n",
      "Epoch 00004: val_loss improved from 0.04869 to 0.04741, saving model to D:\\桌面\\空气质量预测综合\\北京PM2.5数据集\\多步预测\\12hourweights\\GRU_model_weights_best.hdf5\n",
      "Epoch 5/100\n",
      " - 4s - loss: 0.0602 - val_loss: 0.0467\n",
      "\n",
      "Epoch 00005: val_loss improved from 0.04741 to 0.04667, saving model to D:\\桌面\\空气质量预测综合\\北京PM2.5数据集\\多步预测\\12hourweights\\GRU_model_weights_best.hdf5\n",
      "Epoch 6/100\n",
      " - 4s - loss: 0.0610 - val_loss: 0.0459\n",
      "\n",
      "Epoch 00006: val_loss improved from 0.04667 to 0.04588, saving model to D:\\桌面\\空气质量预测综合\\北京PM2.5数据集\\多步预测\\12hourweights\\GRU_model_weights_best.hdf5\n",
      "Epoch 7/100\n",
      " - 4s - loss: 0.0606 - val_loss: 0.0448\n",
      "\n",
      "Epoch 00007: val_loss improved from 0.04588 to 0.04479, saving model to D:\\桌面\\空气质量预测综合\\北京PM2.5数据集\\多步预测\\12hourweights\\GRU_model_weights_best.hdf5\n",
      "Epoch 8/100\n",
      " - 5s - loss: 0.0597 - val_loss: 0.0456\n",
      "\n",
      "Epoch 00008: val_loss did not improve from 0.04479\n",
      "Epoch 9/100\n",
      " - 5s - loss: 0.0591 - val_loss: 0.0442\n",
      "\n",
      "Epoch 00009: val_loss improved from 0.04479 to 0.04416, saving model to D:\\桌面\\空气质量预测综合\\北京PM2.5数据集\\多步预测\\12hourweights\\GRU_model_weights_best.hdf5\n",
      "Epoch 10/100\n",
      " - 5s - loss: 0.0594 - val_loss: 0.0445\n",
      "\n",
      "Epoch 00010: val_loss did not improve from 0.04416\n",
      "Epoch 11/100\n",
      " - 5s - loss: 0.0591 - val_loss: 0.0453\n",
      "\n",
      "Epoch 00011: val_loss did not improve from 0.04416\n",
      "Epoch 12/100\n",
      " - 5s - loss: 0.0581 - val_loss: 0.0441\n",
      "\n",
      "Epoch 00012: val_loss improved from 0.04416 to 0.04414, saving model to D:\\桌面\\空气质量预测综合\\北京PM2.5数据集\\多步预测\\12hourweights\\GRU_model_weights_best.hdf5\n",
      "Epoch 13/100\n",
      " - 5s - loss: 0.0575 - val_loss: 0.0447\n",
      "\n",
      "Epoch 00013: val_loss did not improve from 0.04414\n",
      "Epoch 14/100\n",
      " - 5s - loss: 0.0583 - val_loss: 0.0450\n",
      "\n",
      "Epoch 00014: val_loss did not improve from 0.04414\n",
      "Epoch 15/100\n",
      " - 5s - loss: 0.0575 - val_loss: 0.0451\n",
      "\n",
      "Epoch 00015: val_loss did not improve from 0.04414\n",
      "Epoch 16/100\n",
      " - 5s - loss: 0.0579 - val_loss: 0.0456\n",
      "\n",
      "Epoch 00016: val_loss did not improve from 0.04414\n",
      "Epoch 17/100\n",
      " - 5s - loss: 0.0580 - val_loss: 0.0483\n",
      "\n",
      "Epoch 00017: val_loss did not improve from 0.04414\n",
      "Epoch 18/100\n",
      " - 5s - loss: 0.0575 - val_loss: 0.0465\n",
      "\n",
      "Epoch 00018: val_loss did not improve from 0.04414\n",
      "Epoch 19/100\n",
      " - 5s - loss: 0.0568 - val_loss: 0.0441\n",
      "\n",
      "Epoch 00019: val_loss improved from 0.04414 to 0.04414, saving model to D:\\桌面\\空气质量预测综合\\北京PM2.5数据集\\多步预测\\12hourweights\\GRU_model_weights_best.hdf5\n",
      "Epoch 20/100\n",
      " - 5s - loss: 0.0567 - val_loss: 0.0448\n",
      "\n",
      "Epoch 00020: val_loss did not improve from 0.04414\n",
      "Epoch 21/100\n",
      " - 5s - loss: 0.0562 - val_loss: 0.0470\n",
      "\n",
      "Epoch 00021: val_loss did not improve from 0.04414\n",
      "Epoch 22/100\n",
      " - 5s - loss: 0.0568 - val_loss: 0.0445\n",
      "\n",
      "Epoch 00022: val_loss did not improve from 0.04414\n",
      "Epoch 23/100\n",
      " - 5s - loss: 0.0567 - val_loss: 0.0453\n",
      "\n",
      "Epoch 00023: val_loss did not improve from 0.04414\n",
      "Epoch 24/100\n",
      " - 5s - loss: 0.0560 - val_loss: 0.0471\n",
      "\n",
      "Epoch 00024: val_loss did not improve from 0.04414\n",
      "Epoch 25/100\n",
      " - 5s - loss: 0.0563 - val_loss: 0.0455\n",
      "\n",
      "Epoch 00025: val_loss did not improve from 0.04414\n",
      "Epoch 26/100\n",
      " - 5s - loss: 0.0555 - val_loss: 0.0455\n",
      "\n",
      "Epoch 00026: val_loss did not improve from 0.04414\n",
      "Epoch 27/100\n",
      " - 5s - loss: 0.0559 - val_loss: 0.0467\n",
      "\n",
      "Epoch 00027: val_loss did not improve from 0.04414\n",
      "Epoch 28/100\n",
      " - 5s - loss: 0.0559 - val_loss: 0.0460\n",
      "\n",
      "Epoch 00028: val_loss did not improve from 0.04414\n",
      "Epoch 29/100\n",
      " - 5s - loss: 0.0558 - val_loss: 0.0466\n",
      "\n",
      "Epoch 00029: val_loss did not improve from 0.04414\n",
      "Epoch 30/100\n",
      " - 5s - loss: 0.0551 - val_loss: 0.0455\n",
      "\n",
      "Epoch 00030: val_loss did not improve from 0.04414\n",
      "Epoch 31/100\n",
      " - 5s - loss: 0.0553 - val_loss: 0.0439\n",
      "\n",
      "Epoch 00031: val_loss improved from 0.04414 to 0.04391, saving model to D:\\桌面\\空气质量预测综合\\北京PM2.5数据集\\多步预测\\12hourweights\\GRU_model_weights_best.hdf5\n",
      "Epoch 32/100\n",
      " - 5s - loss: 0.0557 - val_loss: 0.0457\n",
      "\n",
      "Epoch 00032: val_loss did not improve from 0.04391\n",
      "Epoch 33/100\n",
      " - 5s - loss: 0.0551 - val_loss: 0.0460\n",
      "\n",
      "Epoch 00033: val_loss did not improve from 0.04391\n",
      "Epoch 34/100\n",
      " - 5s - loss: 0.0549 - val_loss: 0.0451\n",
      "\n",
      "Epoch 00034: val_loss did not improve from 0.04391\n",
      "Epoch 35/100\n",
      " - 5s - loss: 0.0552 - val_loss: 0.0443\n",
      "\n",
      "Epoch 00035: val_loss did not improve from 0.04391\n",
      "Epoch 36/100\n",
      " - 5s - loss: 0.0553 - val_loss: 0.0439\n",
      "\n",
      "Epoch 00036: val_loss did not improve from 0.04391\n",
      "Epoch 37/100\n",
      " - 5s - loss: 0.0544 - val_loss: 0.0444\n",
      "\n",
      "Epoch 00037: val_loss did not improve from 0.04391\n",
      "Epoch 38/100\n",
      " - 6s - loss: 0.0540 - val_loss: 0.0454\n",
      "\n",
      "Epoch 00038: val_loss did not improve from 0.04391\n",
      "Epoch 39/100\n",
      " - 5s - loss: 0.0536 - val_loss: 0.0470\n",
      "\n",
      "Epoch 00039: val_loss did not improve from 0.04391\n",
      "Epoch 40/100\n",
      " - 5s - loss: 0.0542 - val_loss: 0.0468\n",
      "\n",
      "Epoch 00040: val_loss did not improve from 0.04391\n",
      "Epoch 41/100\n",
      " - 5s - loss: 0.0531 - val_loss: 0.0442\n",
      "\n",
      "Epoch 00041: val_loss did not improve from 0.04391\n",
      "Epoch 42/100\n",
      " - 5s - loss: 0.0538 - val_loss: 0.0447\n",
      "\n",
      "Epoch 00042: val_loss did not improve from 0.04391\n",
      "Epoch 43/100\n",
      " - 5s - loss: 0.0536 - val_loss: 0.0451\n",
      "\n",
      "Epoch 00043: val_loss did not improve from 0.04391\n",
      "Epoch 44/100\n",
      " - 5s - loss: 0.0533 - val_loss: 0.0484\n",
      "\n",
      "Epoch 00044: val_loss did not improve from 0.04391\n",
      "Epoch 45/100\n",
      " - 5s - loss: 0.0530 - val_loss: 0.0459\n",
      "\n",
      "Epoch 00045: val_loss did not improve from 0.04391\n",
      "Epoch 46/100\n",
      " - 5s - loss: 0.0526 - val_loss: 0.0463\n",
      "\n",
      "Epoch 00046: val_loss did not improve from 0.04391\n",
      "Epoch 47/100\n",
      " - 5s - loss: 0.0537 - val_loss: 0.0493\n",
      "\n",
      "Epoch 00047: val_loss did not improve from 0.04391\n",
      "Epoch 48/100\n",
      " - 5s - loss: 0.0526 - val_loss: 0.0472\n",
      "\n",
      "Epoch 00048: val_loss did not improve from 0.04391\n",
      "Epoch 49/100\n",
      " - 5s - loss: 0.0530 - val_loss: 0.0461\n",
      "\n",
      "Epoch 00049: val_loss did not improve from 0.04391\n",
      "Epoch 50/100\n",
      " - 5s - loss: 0.0536 - val_loss: 0.0486\n",
      "\n",
      "Epoch 00050: val_loss did not improve from 0.04391\n",
      "Epoch 51/100\n",
      " - 5s - loss: 0.0539 - val_loss: 0.0450\n",
      "\n",
      "Epoch 00051: val_loss did not improve from 0.04391\n",
      "Epoch 52/100\n",
      " - 6s - loss: 0.0530 - val_loss: 0.0473\n",
      "\n",
      "Epoch 00052: val_loss did not improve from 0.04391\n",
      "Epoch 53/100\n",
      " - 6s - loss: 0.0521 - val_loss: 0.0472\n",
      "\n",
      "Epoch 00053: val_loss did not improve from 0.04391\n",
      "Epoch 54/100\n",
      " - 6s - loss: 0.0514 - val_loss: 0.0483\n",
      "\n",
      "Epoch 00054: val_loss did not improve from 0.04391\n",
      "Epoch 55/100\n",
      " - 6s - loss: 0.0526 - val_loss: 0.0473\n",
      "\n",
      "Epoch 00055: val_loss did not improve from 0.04391\n",
      "Epoch 56/100\n",
      " - 5s - loss: 0.0518 - val_loss: 0.0473\n",
      "\n",
      "Epoch 00056: val_loss did not improve from 0.04391\n",
      "Epoch 57/100\n",
      " - 5s - loss: 0.0509 - val_loss: 0.0506\n",
      "\n",
      "Epoch 00057: val_loss did not improve from 0.04391\n",
      "Epoch 58/100\n",
      " - 5s - loss: 0.0526 - val_loss: 0.0496\n",
      "\n",
      "Epoch 00058: val_loss did not improve from 0.04391\n",
      "Epoch 59/100\n",
      " - 5s - loss: 0.0510 - val_loss: 0.0482\n",
      "\n",
      "Epoch 00059: val_loss did not improve from 0.04391\n",
      "Epoch 60/100\n",
      " - 5s - loss: 0.0510 - val_loss: 0.0469\n",
      "\n",
      "Epoch 00060: val_loss did not improve from 0.04391\n",
      "Epoch 61/100\n",
      " - 5s - loss: 0.0535 - val_loss: 0.0462\n",
      "\n",
      "Epoch 00061: val_loss did not improve from 0.04391\n",
      "Epoch 62/100\n",
      " - 5s - loss: 0.0532 - val_loss: 0.0488\n",
      "\n",
      "Epoch 00062: val_loss did not improve from 0.04391\n",
      "Epoch 63/100\n",
      " - 5s - loss: 0.0516 - val_loss: 0.0501\n",
      "\n",
      "Epoch 00063: val_loss did not improve from 0.04391\n",
      "Epoch 64/100\n",
      " - 5s - loss: 0.0512 - val_loss: 0.0455\n",
      "\n",
      "Epoch 00064: val_loss did not improve from 0.04391\n",
      "Epoch 65/100\n",
      " - 5s - loss: 0.0519 - val_loss: 0.0491\n",
      "\n",
      "Epoch 00065: val_loss did not improve from 0.04391\n",
      "Epoch 66/100\n",
      " - 5s - loss: 0.0516 - val_loss: 0.0464\n",
      "\n",
      "Epoch 00066: val_loss did not improve from 0.04391\n",
      "Epoch 67/100\n",
      " - 5s - loss: 0.0505 - val_loss: 0.0492\n",
      "\n",
      "Epoch 00067: val_loss did not improve from 0.04391\n",
      "Epoch 68/100\n",
      " - 5s - loss: 0.0503 - val_loss: 0.0496\n",
      "\n",
      "Epoch 00068: val_loss did not improve from 0.04391\n",
      "Epoch 69/100\n",
      " - 5s - loss: 0.0519 - val_loss: 0.0465\n",
      "\n",
      "Epoch 00069: val_loss did not improve from 0.04391\n",
      "Epoch 70/100\n"
     ]
    },
    {
     "name": "stdout",
     "output_type": "stream",
     "text": [
      " - 5s - loss: 0.0509 - val_loss: 0.0481\n",
      "\n",
      "Epoch 00070: val_loss did not improve from 0.04391\n",
      "Epoch 71/100\n",
      " - 5s - loss: 0.0501 - val_loss: 0.0492\n",
      "\n",
      "Epoch 00071: val_loss did not improve from 0.04391\n",
      "Epoch 72/100\n",
      " - 5s - loss: 0.0507 - val_loss: 0.0485\n",
      "\n",
      "Epoch 00072: val_loss did not improve from 0.04391\n",
      "Epoch 73/100\n",
      " - 5s - loss: 0.0500 - val_loss: 0.0501\n",
      "\n",
      "Epoch 00073: val_loss did not improve from 0.04391\n",
      "Epoch 74/100\n",
      " - 5s - loss: 0.0508 - val_loss: 0.0447\n",
      "\n",
      "Epoch 00074: val_loss did not improve from 0.04391\n",
      "Epoch 75/100\n",
      " - 5s - loss: 0.0513 - val_loss: 0.0468\n",
      "\n",
      "Epoch 00075: val_loss did not improve from 0.04391\n",
      "Epoch 76/100\n",
      " - 6s - loss: 0.0506 - val_loss: 0.0494\n",
      "\n",
      "Epoch 00076: val_loss did not improve from 0.04391\n",
      "Epoch 77/100\n",
      " - 5s - loss: 0.0497 - val_loss: 0.0471\n",
      "\n",
      "Epoch 00077: val_loss did not improve from 0.04391\n",
      "Epoch 78/100\n",
      " - 5s - loss: 0.0500 - val_loss: 0.0475\n",
      "\n",
      "Epoch 00078: val_loss did not improve from 0.04391\n",
      "Epoch 79/100\n",
      " - 5s - loss: 0.0494 - val_loss: 0.0478\n",
      "\n",
      "Epoch 00079: val_loss did not improve from 0.04391\n",
      "Epoch 80/100\n",
      " - 5s - loss: 0.0495 - val_loss: 0.0489\n",
      "\n",
      "Epoch 00080: val_loss did not improve from 0.04391\n",
      "Epoch 81/100\n",
      " - 5s - loss: 0.0496 - val_loss: 0.0493\n",
      "\n",
      "Epoch 00081: val_loss did not improve from 0.04391\n",
      "Epoch 82/100\n",
      " - 5s - loss: 0.0500 - val_loss: 0.0494\n",
      "\n",
      "Epoch 00082: val_loss did not improve from 0.04391\n",
      "Epoch 83/100\n",
      " - 5s - loss: 0.0495 - val_loss: 0.0486\n",
      "\n",
      "Epoch 00083: val_loss did not improve from 0.04391\n",
      "Epoch 84/100\n",
      " - 5s - loss: 0.0490 - val_loss: 0.0475\n",
      "\n",
      "Epoch 00084: val_loss did not improve from 0.04391\n",
      "Epoch 85/100\n",
      " - 5s - loss: 0.0495 - val_loss: 0.0480\n",
      "\n",
      "Epoch 00085: val_loss did not improve from 0.04391\n",
      "Epoch 86/100\n",
      " - 5s - loss: 0.0498 - val_loss: 0.0495\n",
      "\n",
      "Epoch 00086: val_loss did not improve from 0.04391\n",
      "Epoch 87/100\n",
      " - 5s - loss: 0.0499 - val_loss: 0.0513\n",
      "\n",
      "Epoch 00087: val_loss did not improve from 0.04391\n",
      "Epoch 88/100\n",
      " - 5s - loss: 0.0490 - val_loss: 0.0487\n",
      "\n",
      "Epoch 00088: val_loss did not improve from 0.04391\n",
      "Epoch 89/100\n",
      " - 5s - loss: 0.0483 - val_loss: 0.0494\n",
      "\n",
      "Epoch 00089: val_loss did not improve from 0.04391\n",
      "Epoch 90/100\n",
      " - 5s - loss: 0.0490 - val_loss: 0.0483\n",
      "\n",
      "Epoch 00090: val_loss did not improve from 0.04391\n",
      "Epoch 91/100\n",
      " - 5s - loss: 0.0493 - val_loss: 0.0474\n",
      "\n",
      "Epoch 00091: val_loss did not improve from 0.04391\n",
      "Epoch 92/100\n",
      " - 5s - loss: 0.0493 - val_loss: 0.0500\n",
      "\n",
      "Epoch 00092: val_loss did not improve from 0.04391\n",
      "Epoch 93/100\n",
      " - 5s - loss: 0.0484 - val_loss: 0.0477\n",
      "\n",
      "Epoch 00093: val_loss did not improve from 0.04391\n",
      "Epoch 94/100\n",
      " - 5s - loss: 0.0483 - val_loss: 0.0472\n",
      "\n",
      "Epoch 00094: val_loss did not improve from 0.04391\n",
      "Epoch 95/100\n",
      " - 5s - loss: 0.0471 - val_loss: 0.0512\n",
      "\n",
      "Epoch 00095: val_loss did not improve from 0.04391\n",
      "Epoch 96/100\n",
      " - 5s - loss: 0.0481 - val_loss: 0.0480\n",
      "\n",
      "Epoch 00096: val_loss did not improve from 0.04391\n",
      "Epoch 97/100\n",
      " - 5s - loss: 0.0492 - val_loss: 0.0510\n",
      "\n",
      "Epoch 00097: val_loss did not improve from 0.04391\n",
      "Epoch 98/100\n",
      " - 5s - loss: 0.0480 - val_loss: 0.0494\n",
      "\n",
      "Epoch 00098: val_loss did not improve from 0.04391\n",
      "Epoch 99/100\n",
      " - 6s - loss: 0.0484 - val_loss: 0.0473\n",
      "\n",
      "Epoch 00099: val_loss did not improve from 0.04391\n",
      "Epoch 100/100\n",
      " - 5s - loss: 0.0484 - val_loss: 0.0500\n",
      "\n",
      "Epoch 00100: val_loss did not improve from 0.04391\n",
      "程序运行时间为：495.3906 s\n"
     ]
    }
   ],
   "source": [
    "starttime=time.time()\n",
    "GRU_model1.compile(loss=root_mean_squared_error, optimizer='adam')\n",
    "history1 = GRU_model1.fit(X,y,validation_split=0.25,epochs=100, batch_size=32,callbacks=callbacks_list, verbose=2)\n",
    "endtime=time.time()\n",
    "dtime=endtime-starttime\n",
    "print(\"程序运行时间为：%.8s s\" % dtime)  #时间显示到微秒"
   ]
  },
  {
   "cell_type": "code",
   "execution_count": 12,
   "metadata": {},
   "outputs": [
    {
     "data": {
      "image/png": "[encoded data removed]",
      "text/plain": [
       "<Figure size 1440x1296 with 1 Axes>"
      ]
     },
     "metadata": {},
     "output_type": "display_data"
    }
   ],
   "source": [
    "loss = history1.history['loss']\n",
    "val_loss = history1.history['val_loss']\n",
    "\n",
    "epochs = np.arange(100) + 1\n",
    "plt.figure(figsize=(20,18))\n",
    "plt.plot(epochs, loss, label='loss')\n",
    "plt.plot(epochs, val_loss, label='val_loss')\n",
    "plt.title(\"Effect of model capacity on validation loss\\n\")\n",
    "plt.xlabel('Epoch #')\n",
    "plt.ylabel('Validation Loss')\n",
    "plt.legend()\n",
    "plt.show()"
   ]
  },
  {
   "cell_type": "code",
   "execution_count": 13,
   "metadata": {},
   "outputs": [],
   "source": [
    "GRU_model1.load_weights(filepath)"
   ]
  },
  {
   "cell_type": "code",
   "execution_count": 14,
   "metadata": {},
   "outputs": [],
   "source": [
    "predict=GRU_model1.predict(test_x)\n",
    "predict=scaler1.inverse_transform(predict.reshape(predict.shape[0],predict.shape[1]))"
   ]
  },
  {
   "cell_type": "code",
   "execution_count": 15,
   "metadata": {},
   "outputs": [
    {
     "data": {
      "text/plain": [
       "((1432, 12), (1432, 12))"
      ]
     },
     "execution_count": 15,
     "metadata": {},
     "output_type": "execute_result"
    }
   ],
   "source": [
    "predict.shape,test_y.shape"
   ]
  },
  {
   "cell_type": "code",
   "execution_count": 16,
   "metadata": {},
   "outputs": [
    {
     "data": {
      "text/plain": [
       "54.448573801027955"
      ]
     },
     "execution_count": 16,
     "metadata": {},
     "output_type": "execute_result"
    }
   ],
   "source": [
    "tf.sqrt(tf.losses.mean_squared_error(predict,scaler1.inverse_transform(test_y))).numpy().mean()"
   ]
  },
  {
   "cell_type": "code",
   "execution_count": 10,
   "metadata": {},
   "outputs": [],
   "source": [
    "filepath = \"D:\\桌面\\空气质量预测综合\\北京PM2.5数据集\\多步预测\\\\12hourweights\\GRU_model_weights_best.hdf5\"\n",
    "GRU_model1.load_weights(filepath)"
   ]
  },
  {
   "cell_type": "code",
   "execution_count": 11,
   "metadata": {},
   "outputs": [],
   "source": [
    "predict=GRU_model1.predict(test_x)\n",
    "predict=scaler1.inverse_transform(predict.reshape(predict.shape[0],predict.shape[1]))"
   ]
  },
  {
   "cell_type": "code",
   "execution_count": 12,
   "metadata": {},
   "outputs": [
    {
     "data": {
      "text/plain": [
       "54.448573801027955"
      ]
     },
     "execution_count": 12,
     "metadata": {},
     "output_type": "execute_result"
    }
   ],
   "source": [
    "tf.sqrt(tf.losses.mean_squared_error(predict,scaler1.inverse_transform(test_y))).numpy().mean()"
   ]
  },
  {
   "cell_type": "code",
   "execution_count": 13,
   "metadata": {},
   "outputs": [
    {
     "data": {
      "text/plain": [
       "48.003793935092034"
      ]
     },
     "execution_count": 13,
     "metadata": {},
     "output_type": "execute_result"
    }
   ],
   "source": [
    "tf.losses.mae(predict,scaler1.inverse_transform(test_y)).numpy().mean()"
   ]
  },
  {
   "cell_type": "code",
   "execution_count": 14,
   "metadata": {},
   "outputs": [
    {
     "name": "stdout",
     "output_type": "stream",
     "text": [
      "0 : 34.08493719433673\n",
      "1 : 43.543026441947944\n",
      "2 : 52.10864048216675\n",
      "3 : 59.28415129722706\n",
      "4 : 65.70588835037451\n",
      "5 : 70.9395250312896\n",
      "6 : 75.494382071395\n"
     ]
    }
   ],
   "source": [
    "for i in range(7):\n",
    "    loss1 = tf.sqrt(tf.losses.mean_squared_error(predict[:,i],scaler1.inverse_transform(test_y)[:,i])).numpy()\n",
    "    print(i,\":\",loss1)"
   ]
  },
  {
   "cell_type": "code",
   "execution_count": 15,
   "metadata": {},
   "outputs": [
    {
     "name": "stdout",
     "output_type": "stream",
     "text": [
      "0 : 4.694029327885231\n",
      "1 : 5.302494482107023\n",
      "2 : 5.783156883970017\n",
      "3 : 6.194296666960035\n",
      "4 : 6.603333180050226\n",
      "5 : 6.929648855053049\n",
      "6 : 7.236014371138164\n"
     ]
    }
   ],
   "source": [
    "for i in range(7):\n",
    "    loss1 = tf.sqrt(tf.losses.mae(predict[:,i],scaler1.inverse_transform(test_y)[:,i])).numpy()\n",
    "    print(i,\":\",loss1)"
   ]
  },
  {
   "cell_type": "code",
   "execution_count": 14,
   "metadata": {},
   "outputs": [
    {
     "name": "stdout",
     "output_type": "stream",
     "text": [
      "40.72783566846364\n",
      "36.743813105690634\n",
      "62.512165593193984\n",
      "59.26377476449342\n"
     ]
    }
   ],
   "source": [
    "print(tf.sqrt(tf.losses.mean_squared_error(predict[:,:6],scaler1.inverse_transform(test_y)[:,:6])).numpy().mean())\n",
    "print(tf.losses.mae(predict[:,:6],scaler1.inverse_transform(test_y)[:,:6]).numpy().mean())\n",
    "print(tf.sqrt(tf.losses.mean_squared_error(predict[:,6:],scaler1.inverse_transform(test_y)[:,6:])).numpy().mean())\n",
    "print(tf.losses.mae(predict[:,6:],scaler1.inverse_transform(test_y)[:,6:]).numpy().mean())"
   ]
  },
  {
   "cell_type": "code",
   "execution_count": null,
   "metadata": {},
   "outputs": [],
   "source": []
  }
 ],
 "metadata": {
  "kernelspec": {
   "display_name": "Python [conda env:root] *",
   "language": "python",
   "name": "conda-root-py"
  },
  "language_info": {
   "codemirror_mode": {
    "name": "ipython",
    "version": 3
   },
   "file_extension": ".py",
   "mimetype": "text/x-python",
   "name": "python",
   "nbconvert_exporter": "python",
   "pygments_lexer": "ipython3",
   "version": "3.7.3"
  }
 },
 "nbformat": 4,
 "nbformat_minor": 2
}

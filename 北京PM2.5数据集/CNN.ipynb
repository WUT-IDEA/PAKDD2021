{
 "cells": [
  {
   "cell_type": "code",
   "execution_count": 1,
   "metadata": {},
   "outputs": [
    {
     "name": "stderr",
     "output_type": "stream",
     "text": [
      "Using TensorFlow backend.\n"
     ]
    }
   ],
   "source": [
    "from keras.models import Model\n",
    "from keras.layers import Input, Dense, LSTM, multiply, concatenate, Activation, Masking, Reshape,RepeatVector\n",
    "from keras.layers import Conv1D, BatchNormalization, GlobalAveragePooling1D, Permute, Dropout,MaxPooling1D,AveragePooling1D,Flatten,Bidirectional\n",
    "\n",
    "\n",
    "import tensorflow as tf\n",
    "import pandas as pd\n",
    "import numpy as np\n",
    "import matplotlib.pyplot as plt\n",
    "from utils.data_split import split_sequence_parallel\n",
    "\n",
    "# 不加这几句，则CONV 报错\n",
    "physical_devices = tf.config.experimental.list_physical_devices('GPU')\n",
    "assert len(physical_devices) > 0, \"Not enough GPU hardware devices available\"\n",
    "tf.config.experimental.set_memory_growth(physical_devices[0], True)"
   ]
  },
  {
   "cell_type": "code",
   "execution_count": 2,
   "metadata": {},
   "outputs": [],
   "source": [
    "data = pd.read_csv(\"./data/data_1009.csv\", header=0,infer_datetime_format=True, engine='python')\n",
    "data['Unnamed: 0']=pd.to_datetime(data['Unnamed: 0'])\n",
    "data.set_index(\"Unnamed: 0\",inplace=True)\n",
    "'''\n",
    "归一化\n",
    "'''\n",
    "from sklearn.preprocessing import MinMaxScaler\n",
    "scaler1 = MinMaxScaler(feature_range=(0, 1))\n",
    "scaler2 = MinMaxScaler(feature_range=(0, 1))\n",
    "scaler3 = MinMaxScaler(feature_range=(0, 1))\n",
    "scaler4 = MinMaxScaler(feature_range=(0, 1))\n",
    "scaler5 = MinMaxScaler(feature_range=(0, 1))\n",
    "scaler6 = MinMaxScaler(feature_range=(0, 1))\n",
    "scaler7 = MinMaxScaler(feature_range=(0, 1))\n",
    "scaler8 = MinMaxScaler(feature_range=(0, 1))\n",
    "data_minmax = data.copy()\n",
    "data_minmax['pm2.5']=scaler1.fit_transform(data_minmax['pm2.5'].values.reshape(-1,1))\n",
    "data_minmax['DEWP']=scaler2.fit_transform(data_minmax['DEWP'].values.reshape(-1,1))\n",
    "data_minmax['TEMP']=scaler3.fit_transform(data_minmax['TEMP'].values.reshape(-1,1))\n",
    "data_minmax['PRES']=scaler4.fit_transform(data_minmax['PRES'].values.reshape(-1,1))\n",
    "data_minmax['cbwd_NE']=scaler5.fit_transform(data_minmax['cbwd_NE'].values.reshape(-1,1))\n",
    "data_minmax['cbwd_NW']=scaler6.fit_transform(data_minmax['cbwd_NW'].values.reshape(-1,1))\n",
    "data_minmax['cbwd_SE']=scaler7.fit_transform(data_minmax['cbwd_SE'].values.reshape(-1,1))\n",
    "data_minmax['cbwd_cv']=scaler7.fit_transform(data_minmax['cbwd_cv'].values.reshape(-1,1))"
   ]
  },
  {
   "cell_type": "code",
   "execution_count": 3,
   "metadata": {},
   "outputs": [
    {
     "data": {
      "text/plain": [
       "((7296, 8), (1464, 8))"
      ]
     },
     "execution_count": 3,
     "metadata": {},
     "output_type": "execute_result"
    }
   ],
   "source": [
    "'''\n",
    "取一年的时间，10个月做训练和验证，2个月做测试\n",
    "'''\n",
    "cast1 = 35064\n",
    "cast2 = -1464\n",
    "data_train = data_minmax[cast1:cast2]\n",
    "data_test = data_minmax[cast2:] \n",
    "data_train.shape,data_test.shape"
   ]
  },
  {
   "cell_type": "code",
   "execution_count": 4,
   "metadata": {},
   "outputs": [
    {
     "data": {
      "text/plain": [
       "((7296, 8), (1464, 8))"
      ]
     },
     "execution_count": 4,
     "metadata": {},
     "output_type": "execute_result"
    }
   ],
   "source": [
    "data_train = np.array(data_train)\n",
    "data_test = np.array(data_test)\n",
    "data_train.shape,data_test.shape"
   ]
  },
  {
   "cell_type": "code",
   "execution_count": 5,
   "metadata": {},
   "outputs": [],
   "source": [
    "from utils.data_split import split_sequence_parallel"
   ]
  },
  {
   "cell_type": "code",
   "execution_count": 6,
   "metadata": {},
   "outputs": [],
   "source": [
    "sw_width = 21\n",
    "pred_length = 7\n",
    "verbose_set = 2\n",
    "X, y, features = split_sequence_parallel(data_train,sw_width,pred_length)\n",
    "test_x,test_y,test_features = split_sequence_parallel(data_test,sw_width,pred_length)"
   ]
  },
  {
   "cell_type": "code",
   "execution_count": 7,
   "metadata": {},
   "outputs": [],
   "source": [
    "def CNN():\n",
    "    ip = Input(shape=(sw_width,features))\n",
    "\n",
    "    y = Conv1D(128, 5, padding='same', kernel_initializer='he_uniform')(ip) \n",
    "    y = BatchNormalization()(y)\n",
    "    y = Activation('relu')(y)\n",
    "    y = MaxPooling1D(pool_size=2)(y)\n",
    "    y = Flatten()(y)\n",
    "    \n",
    "    y = Dense(100)(y)\n",
    "    y = Dropout(0.5)(y)\n",
    "    out = Dense(pred_length)(y)\n",
    "\n",
    "    model = Model(ip, out)\n",
    "    model.summary()\n",
    "    return model"
   ]
  },
  {
   "cell_type": "code",
   "execution_count": 8,
   "metadata": {},
   "outputs": [
    {
     "name": "stdout",
     "output_type": "stream",
     "text": [
      "Model: \"model_1\"\n",
      "_________________________________________________________________\n",
      "Layer (type)                 Output Shape              Param #   \n",
      "=================================================================\n",
      "input_1 (InputLayer)         (None, 21, 8)             0         \n",
      "_________________________________________________________________\n",
      "conv1d_1 (Conv1D)            (None, 21, 128)           5248      \n",
      "_________________________________________________________________\n",
      "batch_normalization_1 (Batch (None, 21, 128)           512       \n",
      "_________________________________________________________________\n",
      "activation_1 (Activation)    (None, 21, 128)           0         \n",
      "_________________________________________________________________\n",
      "max_pooling1d_1 (MaxPooling1 (None, 10, 128)           0         \n",
      "_________________________________________________________________\n",
      "flatten_1 (Flatten)          (None, 1280)              0         \n",
      "_________________________________________________________________\n",
      "dense_1 (Dense)              (None, 100)               128100    \n",
      "_________________________________________________________________\n",
      "dropout_1 (Dropout)          (None, 100)               0         \n",
      "_________________________________________________________________\n",
      "dense_2 (Dense)              (None, 7)                 707       \n",
      "=================================================================\n",
      "Total params: 134,567\n",
      "Trainable params: 134,311\n",
      "Non-trainable params: 256\n",
      "_________________________________________________________________\n"
     ]
    },
    {
     "data": {
      "text/plain": [
       "<keras.engine.training.Model at 0x2b44afe3748>"
      ]
     },
     "execution_count": 8,
     "metadata": {},
     "output_type": "execute_result"
    }
   ],
   "source": [
    "CNN_model1 = CNN()\n",
    "CNN_model1"
   ]
  },
  {
   "cell_type": "code",
   "execution_count": 12,
   "metadata": {},
   "outputs": [],
   "source": [
    "import time\n",
    "from keras import backend as K\n",
    "from keras.callbacks import ModelCheckpoint,LearningRateScheduler,ReduceLROnPlateau\n",
    "# from utils.lr_process import lr_schedule\n",
    "def root_mean_squared_error(y_true, y_pred):\n",
    "    return K.sqrt(K.mean(K.square(y_pred - y_true))) \n",
    "\n",
    "# lr_scheduler = LearningRateScheduler(lr_schedule)\n",
    "# lr_reducer = ReduceLROnPlateau(factor=np.sqrt(0.1),\n",
    "#                                cooldown=0,\n",
    "#                                patience=5,\n",
    "#                                min_lr=0.5e-6)\n",
    "\n",
    "filepath = \"D:\\桌面\\空气质量预测综合\\北京PM2.5数据集\\多步预测\\weights\\CNN_model_weights_best.hdf5\"\n",
    "\n",
    "checkpoint = ModelCheckpoint(filepath, monitor='val_loss', verbose=1, save_best_only=True, mode='min', period=1)\n",
    "callbacks_list = [checkpoint]"
   ]
  },
  {
   "cell_type": "code",
   "execution_count": 13,
   "metadata": {},
   "outputs": [
    {
     "name": "stdout",
     "output_type": "stream",
     "text": [
      "Train on 5451 samples, validate on 1818 samples\n",
      "Epoch 1/100\n",
      " - 4s - loss: 0.5670 - val_loss: 0.0984\n",
      "\n",
      "Epoch 00001: val_loss improved from inf to 0.09838, saving model to D:\\桌面\\空气质量预测综合\\北京PM2.5数据集\\多步预测\\weights\\CNN_model_weights_best.hdf5\n",
      "Epoch 2/100\n",
      " - 1s - loss: 0.2394 - val_loss: 0.0727\n",
      "\n",
      "Epoch 00002: val_loss improved from 0.09838 to 0.07269, saving model to D:\\桌面\\空气质量预测综合\\北京PM2.5数据集\\多步预测\\weights\\CNN_model_weights_best.hdf5\n",
      "Epoch 3/100\n",
      " - 1s - loss: 0.1208 - val_loss: 0.0669\n",
      "\n",
      "Epoch 00003: val_loss improved from 0.07269 to 0.06693, saving model to D:\\桌面\\空气质量预测综合\\北京PM2.5数据集\\多步预测\\weights\\CNN_model_weights_best.hdf5\n",
      "Epoch 4/100\n",
      " - 1s - loss: 0.0716 - val_loss: 0.0467\n",
      "\n",
      "Epoch 00004: val_loss improved from 0.06693 to 0.04674, saving model to D:\\桌面\\空气质量预测综合\\北京PM2.5数据集\\多步预测\\weights\\CNN_model_weights_best.hdf5\n",
      "Epoch 5/100\n",
      " - 1s - loss: 0.0558 - val_loss: 0.0430\n",
      "\n",
      "Epoch 00005: val_loss improved from 0.04674 to 0.04303, saving model to D:\\桌面\\空气质量预测综合\\北京PM2.5数据集\\多步预测\\weights\\CNN_model_weights_best.hdf5\n",
      "Epoch 6/100\n",
      " - 1s - loss: 0.0522 - val_loss: 0.0382\n",
      "\n",
      "Epoch 00006: val_loss improved from 0.04303 to 0.03823, saving model to D:\\桌面\\空气质量预测综合\\北京PM2.5数据集\\多步预测\\weights\\CNN_model_weights_best.hdf5\n",
      "Epoch 7/100\n",
      " - 1s - loss: 0.0509 - val_loss: 0.0386\n",
      "\n",
      "Epoch 00007: val_loss did not improve from 0.03823\n",
      "Epoch 8/100\n",
      " - 1s - loss: 0.0498 - val_loss: 0.0383\n",
      "\n",
      "Epoch 00008: val_loss did not improve from 0.03823\n",
      "Epoch 9/100\n",
      " - 1s - loss: 0.0507 - val_loss: 0.0432\n",
      "\n",
      "Epoch 00009: val_loss did not improve from 0.03823\n",
      "Epoch 10/100\n",
      " - 1s - loss: 0.0498 - val_loss: 0.0363\n",
      "\n",
      "Epoch 00010: val_loss improved from 0.03823 to 0.03632, saving model to D:\\桌面\\空气质量预测综合\\北京PM2.5数据集\\多步预测\\weights\\CNN_model_weights_best.hdf5\n",
      "Epoch 11/100\n",
      " - 1s - loss: 0.0484 - val_loss: 0.0368\n",
      "\n",
      "Epoch 00011: val_loss did not improve from 0.03632\n",
      "Epoch 12/100\n",
      " - 1s - loss: 0.0500 - val_loss: 0.0389\n",
      "\n",
      "Epoch 00012: val_loss did not improve from 0.03632\n",
      "Epoch 13/100\n",
      " - 1s - loss: 0.0473 - val_loss: 0.0406\n",
      "\n",
      "Epoch 00013: val_loss did not improve from 0.03632\n",
      "Epoch 14/100\n",
      " - 1s - loss: 0.0485 - val_loss: 0.0368\n",
      "\n",
      "Epoch 00014: val_loss did not improve from 0.03632\n",
      "Epoch 15/100\n",
      " - 1s - loss: 0.0477 - val_loss: 0.0361\n",
      "\n",
      "Epoch 00015: val_loss improved from 0.03632 to 0.03610, saving model to D:\\桌面\\空气质量预测综合\\北京PM2.5数据集\\多步预测\\weights\\CNN_model_weights_best.hdf5\n",
      "Epoch 16/100\n",
      " - 1s - loss: 0.0468 - val_loss: 0.0397\n",
      "\n",
      "Epoch 00016: val_loss did not improve from 0.03610\n",
      "Epoch 17/100\n",
      " - 1s - loss: 0.0467 - val_loss: 0.0363\n",
      "\n",
      "Epoch 00017: val_loss did not improve from 0.03610\n",
      "Epoch 18/100\n",
      " - 1s - loss: 0.0460 - val_loss: 0.0349\n",
      "\n",
      "Epoch 00018: val_loss improved from 0.03610 to 0.03492, saving model to D:\\桌面\\空气质量预测综合\\北京PM2.5数据集\\多步预测\\weights\\CNN_model_weights_best.hdf5\n",
      "Epoch 19/100\n",
      " - 1s - loss: 0.0469 - val_loss: 0.0368\n",
      "\n",
      "Epoch 00019: val_loss did not improve from 0.03492\n",
      "Epoch 20/100\n",
      " - 1s - loss: 0.0465 - val_loss: 0.0435\n",
      "\n",
      "Epoch 00020: val_loss did not improve from 0.03492\n",
      "Epoch 21/100\n",
      " - 1s - loss: 0.0465 - val_loss: 0.0404\n",
      "\n",
      "Epoch 00021: val_loss did not improve from 0.03492\n",
      "Epoch 22/100\n",
      " - 1s - loss: 0.0460 - val_loss: 0.0419\n",
      "\n",
      "Epoch 00022: val_loss did not improve from 0.03492\n",
      "Epoch 23/100\n",
      " - 1s - loss: 0.0455 - val_loss: 0.0363\n",
      "\n",
      "Epoch 00023: val_loss did not improve from 0.03492\n",
      "Epoch 24/100\n",
      " - 1s - loss: 0.0447 - val_loss: 0.0382\n",
      "\n",
      "Epoch 00024: val_loss did not improve from 0.03492\n",
      "Epoch 25/100\n",
      " - 1s - loss: 0.0457 - val_loss: 0.0379\n",
      "\n",
      "Epoch 00025: val_loss did not improve from 0.03492\n",
      "Epoch 26/100\n",
      " - 1s - loss: 0.0455 - val_loss: 0.0443\n",
      "\n",
      "Epoch 00026: val_loss did not improve from 0.03492\n",
      "Epoch 27/100\n",
      " - 1s - loss: 0.0450 - val_loss: 0.0391\n",
      "\n",
      "Epoch 00027: val_loss did not improve from 0.03492\n",
      "Epoch 28/100\n",
      " - 1s - loss: 0.0445 - val_loss: 0.0377\n",
      "\n",
      "Epoch 00028: val_loss did not improve from 0.03492\n",
      "Epoch 29/100\n",
      " - 1s - loss: 0.0449 - val_loss: 0.0390\n",
      "\n",
      "Epoch 00029: val_loss did not improve from 0.03492\n",
      "Epoch 30/100\n",
      " - 1s - loss: 0.0443 - val_loss: 0.0383\n",
      "\n",
      "Epoch 00030: val_loss did not improve from 0.03492\n",
      "Epoch 31/100\n",
      " - 1s - loss: 0.0439 - val_loss: 0.0375\n",
      "\n",
      "Epoch 00031: val_loss did not improve from 0.03492\n",
      "Epoch 32/100\n",
      " - 1s - loss: 0.0445 - val_loss: 0.0363\n",
      "\n",
      "Epoch 00032: val_loss did not improve from 0.03492\n",
      "Epoch 33/100\n",
      " - 1s - loss: 0.0444 - val_loss: 0.0404\n",
      "\n",
      "Epoch 00033: val_loss did not improve from 0.03492\n",
      "Epoch 34/100\n",
      " - 1s - loss: 0.0428 - val_loss: 0.0535\n",
      "\n",
      "Epoch 00034: val_loss did not improve from 0.03492\n",
      "Epoch 35/100\n",
      " - 1s - loss: 0.0435 - val_loss: 0.0366\n",
      "\n",
      "Epoch 00035: val_loss did not improve from 0.03492\n",
      "Epoch 36/100\n",
      " - 1s - loss: 0.0427 - val_loss: 0.0475\n",
      "\n",
      "Epoch 00036: val_loss did not improve from 0.03492\n",
      "Epoch 37/100\n",
      " - 1s - loss: 0.0426 - val_loss: 0.0380\n",
      "\n",
      "Epoch 00037: val_loss did not improve from 0.03492\n",
      "Epoch 38/100\n",
      " - 1s - loss: 0.0420 - val_loss: 0.0413\n",
      "\n",
      "Epoch 00038: val_loss did not improve from 0.03492\n",
      "Epoch 39/100\n",
      " - 1s - loss: 0.0409 - val_loss: 0.0436\n",
      "\n",
      "Epoch 00039: val_loss did not improve from 0.03492\n",
      "Epoch 40/100\n",
      " - 1s - loss: 0.0425 - val_loss: 0.0404\n",
      "\n",
      "Epoch 00040: val_loss did not improve from 0.03492\n",
      "Epoch 41/100\n",
      " - 1s - loss: 0.0419 - val_loss: 0.0482\n",
      "\n",
      "Epoch 00041: val_loss did not improve from 0.03492\n",
      "Epoch 42/100\n",
      " - 1s - loss: 0.0411 - val_loss: 0.0382\n",
      "\n",
      "Epoch 00042: val_loss did not improve from 0.03492\n",
      "Epoch 43/100\n",
      " - 1s - loss: 0.0406 - val_loss: 0.0371\n",
      "\n",
      "Epoch 00043: val_loss did not improve from 0.03492\n",
      "Epoch 44/100\n",
      " - 1s - loss: 0.0404 - val_loss: 0.0394\n",
      "\n",
      "Epoch 00044: val_loss did not improve from 0.03492\n",
      "Epoch 45/100\n",
      " - 1s - loss: 0.0395 - val_loss: 0.0382\n",
      "\n",
      "Epoch 00045: val_loss did not improve from 0.03492\n",
      "Epoch 46/100\n",
      " - 1s - loss: 0.0415 - val_loss: 0.0402\n",
      "\n",
      "Epoch 00046: val_loss did not improve from 0.03492\n",
      "Epoch 47/100\n",
      " - 1s - loss: 0.0395 - val_loss: 0.0397\n",
      "\n",
      "Epoch 00047: val_loss did not improve from 0.03492\n",
      "Epoch 48/100\n",
      " - 1s - loss: 0.0401 - val_loss: 0.0391\n",
      "\n",
      "Epoch 00048: val_loss did not improve from 0.03492\n",
      "Epoch 49/100\n",
      " - 1s - loss: 0.0400 - val_loss: 0.0382\n",
      "\n",
      "Epoch 00049: val_loss did not improve from 0.03492\n",
      "Epoch 50/100\n",
      " - 1s - loss: 0.0390 - val_loss: 0.0472\n",
      "\n",
      "Epoch 00050: val_loss did not improve from 0.03492\n",
      "Epoch 51/100\n",
      " - 1s - loss: 0.0389 - val_loss: 0.0424\n",
      "\n",
      "Epoch 00051: val_loss did not improve from 0.03492\n",
      "Epoch 52/100\n",
      " - 1s - loss: 0.0387 - val_loss: 0.0460\n",
      "\n",
      "Epoch 00052: val_loss did not improve from 0.03492\n",
      "Epoch 53/100\n",
      " - 1s - loss: 0.0385 - val_loss: 0.0419\n",
      "\n",
      "Epoch 00053: val_loss did not improve from 0.03492\n",
      "Epoch 54/100\n",
      " - 1s - loss: 0.0381 - val_loss: 0.0431\n",
      "\n",
      "Epoch 00054: val_loss did not improve from 0.03492\n",
      "Epoch 55/100\n",
      " - 1s - loss: 0.0375 - val_loss: 0.0403\n",
      "\n",
      "Epoch 00055: val_loss did not improve from 0.03492\n",
      "Epoch 56/100\n",
      " - 1s - loss: 0.0382 - val_loss: 0.0410\n",
      "\n",
      "Epoch 00056: val_loss did not improve from 0.03492\n",
      "Epoch 57/100\n",
      " - 1s - loss: 0.0380 - val_loss: 0.0415\n",
      "\n",
      "Epoch 00057: val_loss did not improve from 0.03492\n",
      "Epoch 58/100\n",
      " - 1s - loss: 0.0368 - val_loss: 0.0412\n",
      "\n",
      "Epoch 00058: val_loss did not improve from 0.03492\n",
      "Epoch 59/100\n",
      " - 1s - loss: 0.0372 - val_loss: 0.0429\n",
      "\n",
      "Epoch 00059: val_loss did not improve from 0.03492\n",
      "Epoch 60/100\n",
      " - 1s - loss: 0.0370 - val_loss: 0.0440\n",
      "\n",
      "Epoch 00060: val_loss did not improve from 0.03492\n",
      "Epoch 61/100\n",
      " - 1s - loss: 0.0359 - val_loss: 0.0419\n",
      "\n",
      "Epoch 00061: val_loss did not improve from 0.03492\n",
      "Epoch 62/100\n",
      " - 1s - loss: 0.0363 - val_loss: 0.0418\n",
      "\n",
      "Epoch 00062: val_loss did not improve from 0.03492\n",
      "Epoch 63/100\n",
      " - 1s - loss: 0.0364 - val_loss: 0.0455\n",
      "\n",
      "Epoch 00063: val_loss did not improve from 0.03492\n",
      "Epoch 64/100\n",
      " - 1s - loss: 0.0362 - val_loss: 0.0417\n",
      "\n",
      "Epoch 00064: val_loss did not improve from 0.03492\n",
      "Epoch 65/100\n",
      " - 1s - loss: 0.0355 - val_loss: 0.0436\n",
      "\n",
      "Epoch 00065: val_loss did not improve from 0.03492\n",
      "Epoch 66/100\n",
      " - 1s - loss: 0.0363 - val_loss: 0.0456\n",
      "\n",
      "Epoch 00066: val_loss did not improve from 0.03492\n",
      "Epoch 67/100\n",
      " - 1s - loss: 0.0362 - val_loss: 0.0421\n",
      "\n",
      "Epoch 00067: val_loss did not improve from 0.03492\n",
      "Epoch 68/100\n",
      " - 1s - loss: 0.0354 - val_loss: 0.0420\n",
      "\n",
      "Epoch 00068: val_loss did not improve from 0.03492\n",
      "Epoch 69/100\n",
      " - 1s - loss: 0.0358 - val_loss: 0.0409\n",
      "\n",
      "Epoch 00069: val_loss did not improve from 0.03492\n",
      "Epoch 70/100\n",
      " - 1s - loss: 0.0359 - val_loss: 0.0415\n",
      "\n",
      "Epoch 00070: val_loss did not improve from 0.03492\n",
      "Epoch 71/100\n",
      " - 1s - loss: 0.0349 - val_loss: 0.0414\n"
     ]
    },
    {
     "name": "stdout",
     "output_type": "stream",
     "text": [
      "\n",
      "Epoch 00071: val_loss did not improve from 0.03492\n",
      "Epoch 72/100\n",
      " - 1s - loss: 0.0350 - val_loss: 0.0427\n",
      "\n",
      "Epoch 00072: val_loss did not improve from 0.03492\n",
      "Epoch 73/100\n",
      " - 1s - loss: 0.0350 - val_loss: 0.0425\n",
      "\n",
      "Epoch 00073: val_loss did not improve from 0.03492\n",
      "Epoch 74/100\n",
      " - 1s - loss: 0.0352 - val_loss: 0.0421\n",
      "\n",
      "Epoch 00074: val_loss did not improve from 0.03492\n",
      "Epoch 75/100\n",
      " - 1s - loss: 0.0347 - val_loss: 0.0481\n",
      "\n",
      "Epoch 00075: val_loss did not improve from 0.03492\n",
      "Epoch 76/100\n",
      " - 1s - loss: 0.0343 - val_loss: 0.0467\n",
      "\n",
      "Epoch 00076: val_loss did not improve from 0.03492\n",
      "Epoch 77/100\n",
      " - 1s - loss: 0.0346 - val_loss: 0.0458\n",
      "\n",
      "Epoch 00077: val_loss did not improve from 0.03492\n",
      "Epoch 78/100\n",
      " - 1s - loss: 0.0354 - val_loss: 0.0424\n",
      "\n",
      "Epoch 00078: val_loss did not improve from 0.03492\n",
      "Epoch 79/100\n",
      " - 1s - loss: 0.0340 - val_loss: 0.0444\n",
      "\n",
      "Epoch 00079: val_loss did not improve from 0.03492\n",
      "Epoch 80/100\n",
      " - 1s - loss: 0.0342 - val_loss: 0.0443\n",
      "\n",
      "Epoch 00080: val_loss did not improve from 0.03492\n",
      "Epoch 81/100\n",
      " - 1s - loss: 0.0337 - val_loss: 0.0428\n",
      "\n",
      "Epoch 00081: val_loss did not improve from 0.03492\n",
      "Epoch 82/100\n",
      " - 1s - loss: 0.0339 - val_loss: 0.0462\n",
      "\n",
      "Epoch 00082: val_loss did not improve from 0.03492\n",
      "Epoch 83/100\n",
      " - 1s - loss: 0.0347 - val_loss: 0.0491\n",
      "\n",
      "Epoch 00083: val_loss did not improve from 0.03492\n",
      "Epoch 84/100\n",
      " - 1s - loss: 0.0332 - val_loss: 0.0434\n",
      "\n",
      "Epoch 00084: val_loss did not improve from 0.03492\n",
      "Epoch 85/100\n",
      " - 1s - loss: 0.0342 - val_loss: 0.0445\n",
      "\n",
      "Epoch 00085: val_loss did not improve from 0.03492\n",
      "Epoch 86/100\n",
      " - 1s - loss: 0.0339 - val_loss: 0.0436\n",
      "\n",
      "Epoch 00086: val_loss did not improve from 0.03492\n",
      "Epoch 87/100\n",
      " - 1s - loss: 0.0342 - val_loss: 0.0492\n",
      "\n",
      "Epoch 00087: val_loss did not improve from 0.03492\n",
      "Epoch 88/100\n",
      " - 1s - loss: 0.0337 - val_loss: 0.0444\n",
      "\n",
      "Epoch 00088: val_loss did not improve from 0.03492\n",
      "Epoch 89/100\n",
      " - 1s - loss: 0.0332 - val_loss: 0.0446\n",
      "\n",
      "Epoch 00089: val_loss did not improve from 0.03492\n",
      "Epoch 90/100\n",
      " - 1s - loss: 0.0329 - val_loss: 0.0439\n",
      "\n",
      "Epoch 00090: val_loss did not improve from 0.03492\n",
      "Epoch 91/100\n",
      " - 1s - loss: 0.0330 - val_loss: 0.0426\n",
      "\n",
      "Epoch 00091: val_loss did not improve from 0.03492\n",
      "Epoch 92/100\n",
      " - 1s - loss: 0.0332 - val_loss: 0.0479\n",
      "\n",
      "Epoch 00092: val_loss did not improve from 0.03492\n",
      "Epoch 93/100\n",
      " - 1s - loss: 0.0326 - val_loss: 0.0440\n",
      "\n",
      "Epoch 00093: val_loss did not improve from 0.03492\n",
      "Epoch 94/100\n",
      " - 1s - loss: 0.0325 - val_loss: 0.0452\n",
      "\n",
      "Epoch 00094: val_loss did not improve from 0.03492\n",
      "Epoch 95/100\n",
      " - 1s - loss: 0.0328 - val_loss: 0.0451\n",
      "\n",
      "Epoch 00095: val_loss did not improve from 0.03492\n",
      "Epoch 96/100\n",
      " - 1s - loss: 0.0333 - val_loss: 0.0474\n",
      "\n",
      "Epoch 00096: val_loss did not improve from 0.03492\n",
      "Epoch 97/100\n",
      " - 1s - loss: 0.0322 - val_loss: 0.0442\n",
      "\n",
      "Epoch 00097: val_loss did not improve from 0.03492\n",
      "Epoch 98/100\n",
      " - 1s - loss: 0.0330 - val_loss: 0.0454\n",
      "\n",
      "Epoch 00098: val_loss did not improve from 0.03492\n",
      "Epoch 99/100\n",
      " - 1s - loss: 0.0334 - val_loss: 0.0443\n",
      "\n",
      "Epoch 00099: val_loss did not improve from 0.03492\n",
      "Epoch 100/100\n",
      " - 1s - loss: 0.0329 - val_loss: 0.0449\n",
      "\n",
      "Epoch 00100: val_loss did not improve from 0.03492\n",
      "程序运行时间为：67.99143 s\n"
     ]
    }
   ],
   "source": [
    "starttime=time.time()\n",
    "CNN_model1.compile(loss=root_mean_squared_error, optimizer='adam')\n",
    "history1 = CNN_model1.fit(X,y,validation_split=0.25,epochs=100, batch_size=32,callbacks=callbacks_list, verbose=2)\n",
    "endtime=time.time()\n",
    "dtime=endtime-starttime\n",
    "print(\"程序运行时间为：%.8s s\" % dtime)  #时间显示到微秒"
   ]
  },
  {
   "cell_type": "code",
   "execution_count": 14,
   "metadata": {},
   "outputs": [
    {
     "data": {
      "image/png": "[encoded data removed]",
      "text/plain": [
       "<Figure size 1440x1296 with 1 Axes>"
      ]
     },
     "metadata": {},
     "output_type": "display_data"
    }
   ],
   "source": [
    "loss = history1.history['loss']\n",
    "val_loss = history1.history['val_loss']\n",
    "\n",
    "epochs = np.arange(100) + 1\n",
    "plt.figure(figsize=(20,18))\n",
    "plt.plot(epochs, loss, label='loss')\n",
    "plt.plot(epochs, val_loss, label='val_loss')\n",
    "plt.title(\"Effect of model capacity on validation loss\\n\")\n",
    "plt.xlabel('Epoch #')\n",
    "plt.ylabel('Validation Loss')\n",
    "plt.legend()\n",
    "plt.show()"
   ]
  },
  {
   "cell_type": "code",
   "execution_count": 15,
   "metadata": {},
   "outputs": [],
   "source": [
    "CNN_model1.load_weights(filepath)"
   ]
  },
  {
   "cell_type": "code",
   "execution_count": 16,
   "metadata": {},
   "outputs": [],
   "source": [
    "predict=CNN_model1.predict(test_x)\n",
    "predict=scaler1.inverse_transform(predict)"
   ]
  },
  {
   "cell_type": "code",
   "execution_count": 18,
   "metadata": {},
   "outputs": [
    {
     "data": {
      "text/plain": [
       "(1437, 7)"
      ]
     },
     "execution_count": 18,
     "metadata": {},
     "output_type": "execute_result"
    }
   ],
   "source": [
    "predict.shape"
   ]
  },
  {
   "cell_type": "code",
   "execution_count": 22,
   "metadata": {},
   "outputs": [
    {
     "data": {
      "text/plain": [
       "42.837668745384406"
      ]
     },
     "execution_count": 22,
     "metadata": {},
     "output_type": "execute_result"
    }
   ],
   "source": [
    "tf.sqrt(tf.losses.mean_squared_error(predict,scaler1.inverse_transform(test_y))).numpy().mean()"
   ]
  },
  {
   "cell_type": "code",
   "execution_count": 9,
   "metadata": {},
   "outputs": [],
   "source": [
    "filepath = \"D:\\桌面\\空气质量预测综合\\北京PM2.5数据集\\多步预测\\weights\\CNN_model_weights_best.hdf5\"\n",
    "CNN_model1.load_weights(filepath)"
   ]
  },
  {
   "cell_type": "code",
   "execution_count": 10,
   "metadata": {},
   "outputs": [],
   "source": [
    "predict=CNN_model1.predict(test_x)\n",
    "predict=scaler1.inverse_transform(predict)"
   ]
  },
  {
   "cell_type": "code",
   "execution_count": 11,
   "metadata": {},
   "outputs": [
    {
     "data": {
      "text/plain": [
       "42.837668745384406"
      ]
     },
     "execution_count": 11,
     "metadata": {},
     "output_type": "execute_result"
    }
   ],
   "source": [
    "tf.sqrt(tf.losses.mean_squared_error(predict,scaler1.inverse_transform(test_y))).numpy().mean()"
   ]
  },
  {
   "cell_type": "code",
   "execution_count": 12,
   "metadata": {},
   "outputs": [
    {
     "data": {
      "text/plain": [
       "5.666050527648841"
      ]
     },
     "execution_count": 12,
     "metadata": {},
     "output_type": "execute_result"
    }
   ],
   "source": [
    "tf.sqrt(tf.losses.mae(predict,scaler1.inverse_transform(test_y))).numpy().mean()"
   ]
  },
  {
   "cell_type": "code",
   "execution_count": 13,
   "metadata": {},
   "outputs": [
    {
     "name": "stdout",
     "output_type": "stream",
     "text": [
      "0 : 30.15510659585976\n",
      "1 : 41.49136384162472\n",
      "2 : 50.68777356358003\n",
      "3 : 58.65727430497277\n",
      "4 : 65.118334109958\n",
      "5 : 70.50776229689372\n",
      "6 : 75.23266100663524\n"
     ]
    }
   ],
   "source": [
    "for i in range(7):\n",
    "    loss1 = tf.sqrt(tf.losses.mean_squared_error(predict[:,i],scaler1.inverse_transform(test_y)[:,i])).numpy()\n",
    "    print(i,\":\",loss1)"
   ]
  },
  {
   "cell_type": "code",
   "execution_count": 15,
   "metadata": {},
   "outputs": [
    {
     "name": "stdout",
     "output_type": "stream",
     "text": [
      "0 : 4.5598241776645745\n",
      "1 : 5.2045598561200395\n",
      "2 : 5.710959346193922\n",
      "3 : 6.303268515994264\n",
      "4 : 6.667750891755016\n",
      "5 : 6.952872639688213\n",
      "6 : 7.286439525129239\n"
     ]
    }
   ],
   "source": [
    "for i in range(7):\n",
    "    loss1 = tf.sqrt(tf.losses.mae(predict[:,i],scaler1.inverse_transform(test_y)[:,i])).numpy()\n",
    "    print(i,\":\",loss1)"
   ]
  },
  {
   "cell_type": "code",
   "execution_count": null,
   "metadata": {},
   "outputs": [],
   "source": []
  }
 ],
 "metadata": {
  "kernelspec": {
   "display_name": "Python [conda env:root] *",
   "language": "python",
   "name": "conda-root-py"
  },
  "language_info": {
   "codemirror_mode": {
    "name": "ipython",
    "version": 3
   },
   "file_extension": ".py",
   "mimetype": "text/x-python",
   "name": "python",
   "nbconvert_exporter": "python",
   "pygments_lexer": "ipython3",
   "version": "3.7.3"
  }
 },
 "nbformat": 4,
 "nbformat_minor": 2
}

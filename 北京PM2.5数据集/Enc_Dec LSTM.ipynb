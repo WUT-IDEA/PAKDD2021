{
 "cells": [
  {
   "cell_type": "code",
   "execution_count": 1,
   "metadata": {},
   "outputs": [
    {
     "name": "stderr",
     "output_type": "stream",
     "text": [
      "Using TensorFlow backend.\n"
     ]
    }
   ],
   "source": [
    "from keras.models import Model\n",
    "from keras.layers import Input, Dense, LSTM, multiply, concatenate, Activation, Masking, Reshape,RepeatVector,TimeDistributed\n",
    "from keras.layers import Conv1D, BatchNormalization, GlobalAveragePooling1D, Permute, Dropout\n",
    "\n",
    "import tensorflow as tf\n",
    "import pandas as pd\n",
    "import numpy as np\n",
    "import matplotlib.pyplot as plt\n",
    "\n",
    "# 不加这几句，则CONV 报错\n",
    "physical_devices = tf.config.experimental.list_physical_devices('GPU')\n",
    "assert len(physical_devices) > 0, \"Not enough GPU hardware devices available\"\n",
    "tf.config.experimental.set_memory_growth(physical_devices[0], True)"
   ]
  },
  {
   "cell_type": "code",
   "execution_count": 2,
   "metadata": {},
   "outputs": [],
   "source": [
    "data = pd.read_csv(\"./data/data_1009.csv\", header=0,infer_datetime_format=True, engine='python')\n",
    "data['Unnamed: 0']=pd.to_datetime(data['Unnamed: 0'])\n",
    "data.set_index(\"Unnamed: 0\",inplace=True)"
   ]
  },
  {
   "cell_type": "code",
   "execution_count": 3,
   "metadata": {},
   "outputs": [],
   "source": [
    "'''\n",
    "归一化\n",
    "'''\n",
    "from sklearn.preprocessing import MinMaxScaler\n",
    "scaler1 = MinMaxScaler(feature_range=(0, 1))\n",
    "scaler2 = MinMaxScaler(feature_range=(0, 1))\n",
    "scaler3 = MinMaxScaler(feature_range=(0, 1))\n",
    "scaler4 = MinMaxScaler(feature_range=(0, 1))\n",
    "scaler5 = MinMaxScaler(feature_range=(0, 1))\n",
    "scaler6 = MinMaxScaler(feature_range=(0, 1))\n",
    "scaler7 = MinMaxScaler(feature_range=(0, 1))\n",
    "scaler8 = MinMaxScaler(feature_range=(0, 1))\n",
    "data_minmax = data.copy()\n",
    "data_minmax['pm2.5']=scaler1.fit_transform(data_minmax['pm2.5'].values.reshape(-1,1))\n",
    "data_minmax['DEWP']=scaler2.fit_transform(data_minmax['DEWP'].values.reshape(-1,1))\n",
    "data_minmax['TEMP']=scaler3.fit_transform(data_minmax['TEMP'].values.reshape(-1,1))\n",
    "data_minmax['PRES']=scaler4.fit_transform(data_minmax['PRES'].values.reshape(-1,1))\n",
    "data_minmax['cbwd_NE']=scaler5.fit_transform(data_minmax['cbwd_NE'].values.reshape(-1,1))\n",
    "data_minmax['cbwd_NW']=scaler6.fit_transform(data_minmax['cbwd_NW'].values.reshape(-1,1))\n",
    "data_minmax['cbwd_SE']=scaler7.fit_transform(data_minmax['cbwd_SE'].values.reshape(-1,1))\n",
    "data_minmax['cbwd_cv']=scaler7.fit_transform(data_minmax['cbwd_cv'].values.reshape(-1,1))"
   ]
  },
  {
   "cell_type": "code",
   "execution_count": 4,
   "metadata": {},
   "outputs": [
    {
     "data": {
      "text/plain": [
       "((7296, 8), (1464, 8))"
      ]
     },
     "execution_count": 4,
     "metadata": {},
     "output_type": "execute_result"
    }
   ],
   "source": [
    "'''\n",
    "取一年的时间，10个月做训练和验证，2个月做测试\n",
    "'''\n",
    "cast1 = 35064\n",
    "cast2 = -1464\n",
    "data_train = data_minmax[cast1:cast2]\n",
    "data_test = data_minmax[cast2:] \n",
    "data_train.shape,data_test.shape"
   ]
  },
  {
   "cell_type": "code",
   "execution_count": 5,
   "metadata": {},
   "outputs": [
    {
     "data": {
      "text/plain": [
       "((7296, 8), (1464, 8))"
      ]
     },
     "execution_count": 5,
     "metadata": {},
     "output_type": "execute_result"
    }
   ],
   "source": [
    "data_train = np.array(data_train)\n",
    "data_test = np.array(data_test)\n",
    "data_train.shape,data_test.shape"
   ]
  },
  {
   "cell_type": "code",
   "execution_count": 6,
   "metadata": {},
   "outputs": [],
   "source": [
    "from utils.data_split import split_sequence_parallel"
   ]
  },
  {
   "cell_type": "code",
   "execution_count": 7,
   "metadata": {},
   "outputs": [],
   "source": [
    "sw_width = 21\n",
    "pred_length = 12\n",
    "verbose_set = 2\n",
    "X, y, features = split_sequence_parallel(data_train,sw_width,pred_length)\n",
    "test_x,test_y,test_features = split_sequence_parallel(data_test,sw_width,pred_length)"
   ]
  },
  {
   "cell_type": "code",
   "execution_count": 8,
   "metadata": {},
   "outputs": [
    {
     "data": {
      "text/plain": [
       "((1432, 21, 8), (1432, 12))"
      ]
     },
     "execution_count": 8,
     "metadata": {},
     "output_type": "execute_result"
    }
   ],
   "source": [
    "test_x,test_y,test_features = split_sequence_parallel(data_test,sw_width,pred_length)\n",
    "test_x.shape,test_y.shape"
   ]
  },
  {
   "cell_type": "code",
   "execution_count": 9,
   "metadata": {},
   "outputs": [],
   "source": [
    "def ED_LSTM_model():\n",
    "#     ip = Input(shape=(MAX_NB_VARIABLES, MAX_TIMESTEPS))\n",
    "    ip = Input(shape=(sw_width,features))\n",
    "\n",
    "    x = LSTM(128,activation=\"relu\")(ip)\n",
    "#     x = Dropout(0.2)(x)\n",
    "    x = RepeatVector(pred_length)(x)\n",
    "    x = LSTM(64,activation=\"relu\",return_sequences=True)(x)\n",
    "#     x = Dropout(0.2)(x)\n",
    "    \n",
    "    \n",
    "    out = TimeDistributed(Dense(1))(x)\n",
    "\n",
    "    model = Model(ip, out)\n",
    "    model.summary()\n",
    "\n",
    "\n",
    "    return model"
   ]
  },
  {
   "cell_type": "code",
   "execution_count": 10,
   "metadata": {},
   "outputs": [
    {
     "name": "stdout",
     "output_type": "stream",
     "text": [
      "Model: \"model_1\"\n",
      "_________________________________________________________________\n",
      "Layer (type)                 Output Shape              Param #   \n",
      "=================================================================\n",
      "input_1 (InputLayer)         (None, 21, 8)             0         \n",
      "_________________________________________________________________\n",
      "lstm_1 (LSTM)                (None, 128)               70144     \n",
      "_________________________________________________________________\n",
      "repeat_vector_1 (RepeatVecto (None, 12, 128)           0         \n",
      "_________________________________________________________________\n",
      "lstm_2 (LSTM)                (None, 12, 64)            49408     \n",
      "_________________________________________________________________\n",
      "time_distributed_1 (TimeDist (None, 12, 1)             65        \n",
      "=================================================================\n",
      "Total params: 119,617\n",
      "Trainable params: 119,617\n",
      "Non-trainable params: 0\n",
      "_________________________________________________________________\n"
     ]
    },
    {
     "data": {
      "text/plain": [
       "<keras.engine.training.Model at 0x2735b002f28>"
      ]
     },
     "execution_count": 10,
     "metadata": {},
     "output_type": "execute_result"
    }
   ],
   "source": [
    "model = ED_LSTM_model()\n",
    "model"
   ]
  },
  {
   "cell_type": "code",
   "execution_count": 11,
   "metadata": {},
   "outputs": [],
   "source": [
    "y = y.reshape(y.shape[0],y.shape[1],1)"
   ]
  },
  {
   "cell_type": "code",
   "execution_count": 14,
   "metadata": {},
   "outputs": [],
   "source": [
    "import time\n",
    "from keras import backend as K\n",
    "from keras.callbacks import ModelCheckpoint,LearningRateScheduler,ReduceLROnPlateau\n",
    "# from utils.lr_process import lr_schedule\n",
    "def root_mean_squared_error(y_true, y_pred):\n",
    "    return K.sqrt(K.mean(K.square(y_pred - y_true))) \n",
    "\n",
    "# lr_scheduler = LearningRateScheduler(lr_schedule)\n",
    "# lr_reducer = ReduceLROnPlateau(factor=np.sqrt(0.1),\n",
    "#                                cooldown=0,\n",
    "#                                patience=5,\n",
    "#                                min_lr=0.5e-6)\n",
    "\n",
    "filepath = \"D:\\桌面\\空气质量预测综合\\北京PM2.5数据集\\多步预测\\\\12hourweights\\ED_LSTM_model_weights_best.hdf5\"\n",
    "\n",
    "checkpoint = ModelCheckpoint(filepath, monitor='val_loss', verbose=1, save_best_only=True, mode='min', period=1)\n",
    "callbacks_list = [checkpoint]"
   ]
  },
  {
   "cell_type": "code",
   "execution_count": 15,
   "metadata": {},
   "outputs": [
    {
     "name": "stdout",
     "output_type": "stream",
     "text": [
      "Train on 5448 samples, validate on 1816 samples\n",
      "Epoch 1/100\n",
      " - 6s - loss: 0.0595 - val_loss: 0.0466\n",
      "\n",
      "Epoch 00001: val_loss improved from inf to 0.04660, saving model to D:\\桌面\\空气质量预测综合\\北京PM2.5数据集\\多步预测\\12hourweights\\ED_LSTM_model_weights_best.hdf5\n",
      "Epoch 2/100\n",
      " - 5s - loss: 0.0571 - val_loss: 0.0482\n",
      "\n",
      "Epoch 00002: val_loss did not improve from 0.04660\n",
      "Epoch 3/100\n",
      " - 5s - loss: 0.0547 - val_loss: 0.0442\n",
      "\n",
      "Epoch 00003: val_loss improved from 0.04660 to 0.04419, saving model to D:\\桌面\\空气质量预测综合\\北京PM2.5数据集\\多步预测\\12hourweights\\ED_LSTM_model_weights_best.hdf5\n",
      "Epoch 4/100\n",
      " - 5s - loss: 0.0532 - val_loss: 0.0421\n",
      "\n",
      "Epoch 00004: val_loss improved from 0.04419 to 0.04206, saving model to D:\\桌面\\空气质量预测综合\\北京PM2.5数据集\\多步预测\\12hourweights\\ED_LSTM_model_weights_best.hdf5\n",
      "Epoch 5/100\n",
      " - 5s - loss: 0.0511 - val_loss: 0.0503\n",
      "\n",
      "Epoch 00005: val_loss did not improve from 0.04206\n",
      "Epoch 6/100\n",
      " - 5s - loss: 0.0519 - val_loss: 0.0450\n",
      "\n",
      "Epoch 00006: val_loss did not improve from 0.04206\n",
      "Epoch 7/100\n",
      " - 5s - loss: 0.0511 - val_loss: 0.0446\n",
      "\n",
      "Epoch 00007: val_loss did not improve from 0.04206\n",
      "Epoch 8/100\n",
      " - 5s - loss: 0.0505 - val_loss: 0.0435\n",
      "\n",
      "Epoch 00008: val_loss did not improve from 0.04206\n",
      "Epoch 9/100\n",
      " - 5s - loss: 0.0499 - val_loss: 0.0432\n",
      "\n",
      "Epoch 00009: val_loss did not improve from 0.04206\n",
      "Epoch 10/100\n",
      " - 5s - loss: 0.0487 - val_loss: 0.0450\n",
      "\n",
      "Epoch 00010: val_loss did not improve from 0.04206\n",
      "Epoch 11/100\n",
      " - 5s - loss: 0.0482 - val_loss: 0.0426\n",
      "\n",
      "Epoch 00011: val_loss did not improve from 0.04206\n",
      "Epoch 12/100\n",
      " - 5s - loss: 0.0479 - val_loss: 0.0425\n",
      "\n",
      "Epoch 00012: val_loss did not improve from 0.04206\n",
      "Epoch 13/100\n",
      " - 5s - loss: 0.0472 - val_loss: 0.0437\n",
      "\n",
      "Epoch 00013: val_loss did not improve from 0.04206\n",
      "Epoch 14/100\n",
      " - 5s - loss: 0.0451 - val_loss: 0.0468\n",
      "\n",
      "Epoch 00014: val_loss did not improve from 0.04206\n",
      "Epoch 15/100\n",
      " - 5s - loss: 0.0446 - val_loss: 0.0451\n",
      "\n",
      "Epoch 00015: val_loss did not improve from 0.04206\n",
      "Epoch 16/100\n",
      " - 5s - loss: 0.0438 - val_loss: 0.0458\n",
      "\n",
      "Epoch 00016: val_loss did not improve from 0.04206\n",
      "Epoch 17/100\n",
      " - 5s - loss: 0.0445 - val_loss: 0.0491\n",
      "\n",
      "Epoch 00017: val_loss did not improve from 0.04206\n",
      "Epoch 18/100\n",
      " - 5s - loss: 0.0430 - val_loss: 0.0495\n",
      "\n",
      "Epoch 00018: val_loss did not improve from 0.04206\n",
      "Epoch 19/100\n",
      " - 5s - loss: 0.0417 - val_loss: 0.0491\n",
      "\n",
      "Epoch 00019: val_loss did not improve from 0.04206\n",
      "Epoch 20/100\n",
      " - 5s - loss: 0.0403 - val_loss: 0.0473\n",
      "\n",
      "Epoch 00020: val_loss did not improve from 0.04206\n",
      "Epoch 21/100\n",
      " - 5s - loss: 0.0404 - val_loss: 0.0534\n",
      "\n",
      "Epoch 00021: val_loss did not improve from 0.04206\n",
      "Epoch 22/100\n",
      " - 5s - loss: 0.0399 - val_loss: 0.0473\n",
      "\n",
      "Epoch 00022: val_loss did not improve from 0.04206\n",
      "Epoch 23/100\n",
      " - 5s - loss: 0.0382 - val_loss: 0.0487\n",
      "\n",
      "Epoch 00023: val_loss did not improve from 0.04206\n",
      "Epoch 24/100\n",
      " - 5s - loss: 0.0369 - val_loss: 0.0526\n",
      "\n",
      "Epoch 00024: val_loss did not improve from 0.04206\n",
      "Epoch 25/100\n",
      " - 5s - loss: 0.0357 - val_loss: 0.0517\n",
      "\n",
      "Epoch 00025: val_loss did not improve from 0.04206\n",
      "Epoch 26/100\n",
      " - 5s - loss: 0.0368 - val_loss: 0.0535\n",
      "\n",
      "Epoch 00026: val_loss did not improve from 0.04206\n",
      "Epoch 27/100\n",
      " - 5s - loss: 0.0349 - val_loss: 0.0498\n",
      "\n",
      "Epoch 00027: val_loss did not improve from 0.04206\n",
      "Epoch 28/100\n",
      " - 5s - loss: 0.0352 - val_loss: 0.0512\n",
      "\n",
      "Epoch 00028: val_loss did not improve from 0.04206\n",
      "Epoch 29/100\n",
      " - 5s - loss: 0.0330 - val_loss: 0.0542\n",
      "\n",
      "Epoch 00029: val_loss did not improve from 0.04206\n",
      "Epoch 30/100\n",
      " - 5s - loss: 0.0321 - val_loss: 0.0522\n",
      "\n",
      "Epoch 00030: val_loss did not improve from 0.04206\n",
      "Epoch 31/100\n",
      " - 5s - loss: 0.0332 - val_loss: 0.0563\n",
      "\n",
      "Epoch 00031: val_loss did not improve from 0.04206\n",
      "Epoch 32/100\n",
      " - 5s - loss: 0.0329 - val_loss: 0.0598\n",
      "\n",
      "Epoch 00032: val_loss did not improve from 0.04206\n",
      "Epoch 33/100\n",
      " - 6s - loss: 0.0311 - val_loss: 0.0882\n",
      "\n",
      "Epoch 00033: val_loss did not improve from 0.04206\n",
      "Epoch 34/100\n",
      " - 5s - loss: 0.0301 - val_loss: 0.0601\n",
      "\n",
      "Epoch 00034: val_loss did not improve from 0.04206\n",
      "Epoch 35/100\n",
      " - 5s - loss: 0.0294 - val_loss: 0.0572\n",
      "\n",
      "Epoch 00035: val_loss did not improve from 0.04206\n",
      "Epoch 36/100\n",
      " - 5s - loss: 0.0290 - val_loss: 0.0542\n",
      "\n",
      "Epoch 00036: val_loss did not improve from 0.04206\n",
      "Epoch 37/100\n",
      " - 5s - loss: 0.0289 - val_loss: 0.0567\n",
      "\n",
      "Epoch 00037: val_loss did not improve from 0.04206\n",
      "Epoch 38/100\n",
      " - 5s - loss: 0.0275 - val_loss: 0.0591\n",
      "\n",
      "Epoch 00038: val_loss did not improve from 0.04206\n",
      "Epoch 39/100\n",
      " - 5s - loss: 0.0275 - val_loss: 0.0573\n",
      "\n",
      "Epoch 00039: val_loss did not improve from 0.04206\n",
      "Epoch 40/100\n",
      " - 5s - loss: 0.0286 - val_loss: 0.0578\n",
      "\n",
      "Epoch 00040: val_loss did not improve from 0.04206\n",
      "Epoch 41/100\n",
      " - 5s - loss: 0.0271 - val_loss: 0.0593\n",
      "\n",
      "Epoch 00041: val_loss did not improve from 0.04206\n",
      "Epoch 42/100\n",
      " - 5s - loss: 0.0269 - val_loss: 0.0574\n",
      "\n",
      "Epoch 00042: val_loss did not improve from 0.04206\n",
      "Epoch 43/100\n",
      " - 5s - loss: 0.0267 - val_loss: 0.0544\n",
      "\n",
      "Epoch 00043: val_loss did not improve from 0.04206\n",
      "Epoch 44/100\n",
      " - 5s - loss: 0.0264 - val_loss: 0.0584\n",
      "\n",
      "Epoch 00044: val_loss did not improve from 0.04206\n",
      "Epoch 45/100\n",
      " - 5s - loss: 0.0253 - val_loss: 0.0562\n",
      "\n",
      "Epoch 00045: val_loss did not improve from 0.04206\n",
      "Epoch 46/100\n",
      " - 5s - loss: 0.0249 - val_loss: 0.0578\n",
      "\n",
      "Epoch 00046: val_loss did not improve from 0.04206\n",
      "Epoch 47/100\n",
      " - 5s - loss: 0.0256 - val_loss: 0.0602\n",
      "\n",
      "Epoch 00047: val_loss did not improve from 0.04206\n",
      "Epoch 48/100\n",
      " - 5s - loss: 0.0247 - val_loss: 0.0601\n",
      "\n",
      "Epoch 00048: val_loss did not improve from 0.04206\n",
      "Epoch 49/100\n",
      " - 5s - loss: 0.0243 - val_loss: 0.0582\n",
      "\n",
      "Epoch 00049: val_loss did not improve from 0.04206\n",
      "Epoch 50/100\n",
      " - 5s - loss: 0.0245 - val_loss: 0.0582\n",
      "\n",
      "Epoch 00050: val_loss did not improve from 0.04206\n",
      "Epoch 51/100\n",
      " - 5s - loss: 0.0241 - val_loss: 0.0593\n",
      "\n",
      "Epoch 00051: val_loss did not improve from 0.04206\n",
      "Epoch 52/100\n",
      " - 5s - loss: 0.0243 - val_loss: 0.0616\n",
      "\n",
      "Epoch 00052: val_loss did not improve from 0.04206\n",
      "Epoch 53/100\n",
      " - 5s - loss: 0.0311 - val_loss: 0.0572\n",
      "\n",
      "Epoch 00053: val_loss did not improve from 0.04206\n",
      "Epoch 54/100\n",
      " - 5s - loss: 0.0258 - val_loss: 0.0593\n",
      "\n",
      "Epoch 00054: val_loss did not improve from 0.04206\n",
      "Epoch 55/100\n",
      " - 5s - loss: 0.0244 - val_loss: 0.0610\n",
      "\n",
      "Epoch 00055: val_loss did not improve from 0.04206\n",
      "Epoch 56/100\n",
      " - 5s - loss: 0.0236 - val_loss: 0.0601\n",
      "\n",
      "Epoch 00056: val_loss did not improve from 0.04206\n",
      "Epoch 57/100\n",
      " - 5s - loss: 0.0224 - val_loss: 0.0588\n",
      "\n",
      "Epoch 00057: val_loss did not improve from 0.04206\n",
      "Epoch 58/100\n",
      " - 5s - loss: 0.0223 - val_loss: 0.0604\n",
      "\n",
      "Epoch 00058: val_loss did not improve from 0.04206\n",
      "Epoch 59/100\n",
      " - 5s - loss: 0.0221 - val_loss: 0.0582\n",
      "\n",
      "Epoch 00059: val_loss did not improve from 0.04206\n",
      "Epoch 60/100\n",
      " - 5s - loss: 0.0219 - val_loss: 0.0600\n",
      "\n",
      "Epoch 00060: val_loss did not improve from 0.04206\n",
      "Epoch 61/100\n",
      " - 5s - loss: 0.0233 - val_loss: 0.0572\n",
      "\n",
      "Epoch 00061: val_loss did not improve from 0.04206\n",
      "Epoch 62/100\n",
      " - 5s - loss: 0.0230 - val_loss: 0.0579\n",
      "\n",
      "Epoch 00062: val_loss did not improve from 0.04206\n",
      "Epoch 63/100\n",
      " - 5s - loss: 0.0217 - val_loss: 0.0601\n",
      "\n",
      "Epoch 00063: val_loss did not improve from 0.04206\n",
      "Epoch 64/100\n",
      " - 5s - loss: 0.0213 - val_loss: 0.0603\n",
      "\n",
      "Epoch 00064: val_loss did not improve from 0.04206\n",
      "Epoch 65/100\n",
      " - 5s - loss: 0.0215 - val_loss: 0.0594\n",
      "\n",
      "Epoch 00065: val_loss did not improve from 0.04206\n",
      "Epoch 66/100\n",
      " - 5s - loss: 0.0217 - val_loss: 0.0589\n",
      "\n",
      "Epoch 00066: val_loss did not improve from 0.04206\n",
      "Epoch 67/100\n",
      " - 5s - loss: 0.0214 - val_loss: 0.0610\n",
      "\n",
      "Epoch 00067: val_loss did not improve from 0.04206\n",
      "Epoch 68/100\n",
      " - 5s - loss: 0.0209 - val_loss: 0.0605\n",
      "\n",
      "Epoch 00068: val_loss did not improve from 0.04206\n",
      "Epoch 69/100\n",
      " - 5s - loss: 0.0208 - val_loss: 0.0597\n",
      "\n",
      "Epoch 00069: val_loss did not improve from 0.04206\n",
      "Epoch 70/100\n",
      " - 5s - loss: 0.0207 - val_loss: 0.0628\n",
      "\n",
      "Epoch 00070: val_loss did not improve from 0.04206\n",
      "Epoch 71/100\n",
      " - 5s - loss: 0.0210 - val_loss: 0.0589\n",
      "\n",
      "Epoch 00071: val_loss did not improve from 0.04206\n",
      "Epoch 72/100\n",
      " - 5s - loss: 0.0199 - val_loss: 0.0608\n",
      "\n",
      "Epoch 00072: val_loss did not improve from 0.04206\n",
      "Epoch 73/100\n",
      " - 5s - loss: 0.0203 - val_loss: 0.0612\n",
      "\n",
      "Epoch 00073: val_loss did not improve from 0.04206\n",
      "Epoch 74/100\n",
      " - 5s - loss: 0.0213 - val_loss: 0.0619\n",
      "\n",
      "Epoch 00074: val_loss did not improve from 0.04206\n",
      "Epoch 75/100\n",
      " - 5s - loss: 0.0198 - val_loss: 0.0618\n",
      "\n",
      "Epoch 00075: val_loss did not improve from 0.04206\n",
      "Epoch 76/100\n"
     ]
    },
    {
     "name": "stdout",
     "output_type": "stream",
     "text": [
      " - 5s - loss: 0.0201 - val_loss: 0.0596\n",
      "\n",
      "Epoch 00076: val_loss did not improve from 0.04206\n",
      "Epoch 77/100\n",
      " - 5s - loss: 0.0194 - val_loss: 0.0596\n",
      "\n",
      "Epoch 00077: val_loss did not improve from 0.04206\n",
      "Epoch 78/100\n",
      " - 5s - loss: 0.0195 - val_loss: 0.0612\n",
      "\n",
      "Epoch 00078: val_loss did not improve from 0.04206\n",
      "Epoch 79/100\n",
      " - 5s - loss: 0.0194 - val_loss: 0.0615\n",
      "\n",
      "Epoch 00079: val_loss did not improve from 0.04206\n",
      "Epoch 80/100\n",
      " - 5s - loss: 0.0199 - val_loss: 0.0620\n",
      "\n",
      "Epoch 00080: val_loss did not improve from 0.04206\n",
      "Epoch 81/100\n",
      " - 5s - loss: 0.0205 - val_loss: 0.0608\n",
      "\n",
      "Epoch 00081: val_loss did not improve from 0.04206\n",
      "Epoch 82/100\n",
      " - 5s - loss: 0.0193 - val_loss: 0.0591\n",
      "\n",
      "Epoch 00082: val_loss did not improve from 0.04206\n",
      "Epoch 83/100\n",
      " - 5s - loss: 0.0189 - val_loss: 0.0603\n",
      "\n",
      "Epoch 00083: val_loss did not improve from 0.04206\n",
      "Epoch 84/100\n",
      " - 5s - loss: 0.0187 - val_loss: 0.0604\n",
      "\n",
      "Epoch 00084: val_loss did not improve from 0.04206\n",
      "Epoch 85/100\n",
      " - 5s - loss: 0.0189 - val_loss: 0.0625\n",
      "\n",
      "Epoch 00085: val_loss did not improve from 0.04206\n",
      "Epoch 86/100\n",
      " - 5s - loss: 0.0192 - val_loss: 0.0613\n",
      "\n",
      "Epoch 00086: val_loss did not improve from 0.04206\n",
      "Epoch 87/100\n",
      " - 5s - loss: 0.0191 - val_loss: 0.0587\n",
      "\n",
      "Epoch 00087: val_loss did not improve from 0.04206\n",
      "Epoch 88/100\n",
      " - 5s - loss: 0.0196 - val_loss: 0.0591\n",
      "\n",
      "Epoch 00088: val_loss did not improve from 0.04206\n",
      "Epoch 89/100\n",
      " - 5s - loss: 0.0191 - val_loss: 0.0604\n",
      "\n",
      "Epoch 00089: val_loss did not improve from 0.04206\n",
      "Epoch 90/100\n",
      " - 5s - loss: 0.0185 - val_loss: 0.0585\n",
      "\n",
      "Epoch 00090: val_loss did not improve from 0.04206\n",
      "Epoch 91/100\n",
      " - 5s - loss: 0.0185 - val_loss: 0.0593\n",
      "\n",
      "Epoch 00091: val_loss did not improve from 0.04206\n",
      "Epoch 92/100\n",
      " - 5s - loss: 0.0181 - val_loss: 0.0584\n",
      "\n",
      "Epoch 00092: val_loss did not improve from 0.04206\n",
      "Epoch 93/100\n",
      " - 5s - loss: 0.0188 - val_loss: 0.0601\n",
      "\n",
      "Epoch 00093: val_loss did not improve from 0.04206\n",
      "Epoch 94/100\n",
      " - 5s - loss: 0.0182 - val_loss: 0.0618\n",
      "\n",
      "Epoch 00094: val_loss did not improve from 0.04206\n",
      "Epoch 95/100\n",
      " - 5s - loss: 0.0176 - val_loss: 0.0593\n",
      "\n",
      "Epoch 00095: val_loss did not improve from 0.04206\n",
      "Epoch 96/100\n",
      " - 5s - loss: 0.0185 - val_loss: 0.0603\n",
      "\n",
      "Epoch 00096: val_loss did not improve from 0.04206\n",
      "Epoch 97/100\n",
      " - 5s - loss: 0.0181 - val_loss: 0.0603\n",
      "\n",
      "Epoch 00097: val_loss did not improve from 0.04206\n",
      "Epoch 98/100\n",
      " - 5s - loss: 0.0174 - val_loss: 0.0615\n",
      "\n",
      "Epoch 00098: val_loss did not improve from 0.04206\n",
      "Epoch 99/100\n",
      " - 5s - loss: 0.0185 - val_loss: 0.0586\n",
      "\n",
      "Epoch 00099: val_loss did not improve from 0.04206\n",
      "Epoch 100/100\n",
      " - 5s - loss: 0.0179 - val_loss: 0.0618\n",
      "\n",
      "Epoch 00100: val_loss did not improve from 0.04206\n",
      "程序运行时间为：530.3848 s\n"
     ]
    }
   ],
   "source": [
    "starttime=time.time()\n",
    "model.compile(loss=root_mean_squared_error, optimizer='adam')\n",
    "history1 = model.fit(X,y,validation_split=0.25,epochs=100, batch_size=32,callbacks=callbacks_list, verbose=2)\n",
    "endtime=time.time()\n",
    "dtime=endtime-starttime\n",
    "print(\"程序运行时间为：%.8s s\" % dtime)  #时间显示到微秒"
   ]
  },
  {
   "cell_type": "code",
   "execution_count": 16,
   "metadata": {},
   "outputs": [
    {
     "data": {
      "image/png": "[encoded data removed]",
      "text/plain": [
       "<Figure size 1440x1296 with 1 Axes>"
      ]
     },
     "metadata": {},
     "output_type": "display_data"
    }
   ],
   "source": [
    "loss = history1.history['loss']\n",
    "val_loss = history1.history['val_loss']\n",
    "\n",
    "epochs = np.arange(100) + 1\n",
    "plt.figure(figsize=(20,18))\n",
    "plt.plot(epochs, loss, label='loss')\n",
    "plt.plot(epochs, val_loss, label='val_loss')\n",
    "plt.title(\"Effect of model capacity on validation loss\\n\")\n",
    "plt.xlabel('Epoch #')\n",
    "plt.ylabel('Validation Loss')\n",
    "plt.legend()\n",
    "plt.show()"
   ]
  },
  {
   "cell_type": "code",
   "execution_count": 17,
   "metadata": {},
   "outputs": [],
   "source": [
    "model.load_weights(filepath)"
   ]
  },
  {
   "cell_type": "code",
   "execution_count": 18,
   "metadata": {},
   "outputs": [],
   "source": [
    "test_y = test_y.reshape(test_y.shape[0],test_y.shape[1],1)"
   ]
  },
  {
   "cell_type": "code",
   "execution_count": 19,
   "metadata": {},
   "outputs": [],
   "source": [
    "predict=model.predict(test_x)\n",
    "predict=scaler1.inverse_transform(predict.reshape(predict.shape[0],predict.shape[1]))"
   ]
  },
  {
   "cell_type": "code",
   "execution_count": 20,
   "metadata": {},
   "outputs": [
    {
     "data": {
      "text/plain": [
       "52.18843284468231"
      ]
     },
     "execution_count": 20,
     "metadata": {},
     "output_type": "execute_result"
    }
   ],
   "source": [
    "tf.sqrt(tf.losses.mean_squared_error(predict,scaler1.inverse_transform(test_y.reshape(test_y.shape[0],test_y.shape[1])))).numpy().mean()"
   ]
  },
  {
   "cell_type": "code",
   "execution_count": 21,
   "metadata": {},
   "outputs": [
    {
     "name": "stdout",
     "output_type": "stream",
     "text": [
      "0 : 35.95100004058251\n",
      "1 : 44.676159833410665\n",
      "2 : 53.21648515269708\n",
      "3 : 59.99438360476742\n",
      "4 : 65.76827029523301\n",
      "5 : 70.68903847464905\n",
      "6 : 75.11997126943521\n"
     ]
    }
   ],
   "source": [
    "for i in range(7):\n",
    "    loss1 = tf.sqrt(tf.losses.mean_squared_error(predict[:,i],scaler1.inverse_transform(test_y.reshape(test_y.shape[0],test_y.shape[1]))[:,i])).numpy()\n",
    "    print(i,\":\",loss1)"
   ]
  },
  {
   "cell_type": "code",
   "execution_count": 22,
   "metadata": {},
   "outputs": [
    {
     "data": {
      "text/plain": [
       "6.109468332445529"
      ]
     },
     "execution_count": 22,
     "metadata": {},
     "output_type": "execute_result"
    }
   ],
   "source": [
    "tf.sqrt(tf.losses.mae(predict,scaler1.inverse_transform(test_y.reshape(test_y.shape[0],test_y.shape[1])))).numpy().mean()"
   ]
  },
  {
   "cell_type": "code",
   "execution_count": 23,
   "metadata": {},
   "outputs": [
    {
     "name": "stdout",
     "output_type": "stream",
     "text": [
      "0 : 4.80134724899604\n",
      "1 : 5.271923440596317\n",
      "2 : 5.725836593372887\n",
      "3 : 6.098614743166446\n",
      "4 : 6.422689391284806\n",
      "5 : 6.711279578422482\n",
      "6 : 6.98834594844612\n"
     ]
    }
   ],
   "source": [
    "for i in range(7):\n",
    "    loss1 = tf.sqrt(tf.losses.mae(predict[:,i],scaler1.inverse_transform(test_y.reshape(test_y.shape[0],test_y.shape[1]))[:,i])).numpy()\n",
    "    print(i,\":\",loss1)"
   ]
  },
  {
   "cell_type": "code",
   "execution_count": 25,
   "metadata": {},
   "outputs": [
    {
     "name": "stdout",
     "output_type": "stream",
     "text": [
      "38.519987081838906\n",
      "34.519438540866496\n",
      "60.16019887069203\n",
      "56.8523474070391\n"
     ]
    }
   ],
   "source": [
    "print(tf.sqrt(tf.losses.mean_squared_error(predict[:,:6],scaler1.inverse_transform(test_y.reshape(test_y.shape[0],test_y.shape[1]))[:,:6])).numpy().mean())\n",
    "print(tf.losses.mae(predict[:,:6],scaler1.inverse_transform(test_y.reshape(test_y.shape[0],test_y.shape[1]))[:,:6]).numpy().mean())\n",
    "print(tf.sqrt(tf.losses.mean_squared_error(predict[:,6:],scaler1.inverse_transform(test_y.reshape(test_y.shape[0],test_y.shape[1]))[:,6:])).numpy().mean())\n",
    "print(tf.losses.mae(predict[:,6:],scaler1.inverse_transform(test_y.reshape(test_y.shape[0],test_y.shape[1]))[:,6:]).numpy().mean())"
   ]
  },
  {
   "cell_type": "code",
   "execution_count": null,
   "metadata": {},
   "outputs": [],
   "source": []
  }
 ],
 "metadata": {
  "kernelspec": {
   "display_name": "Python 3 (ipykernel)",
   "language": "python",
   "name": "python3"
  },
  "language_info": {
   "codemirror_mode": {
    "name": "ipython",
    "version": 3
   },
   "file_extension": ".py",
   "mimetype": "text/x-python",
   "name": "python",
   "nbconvert_exporter": "python",
   "pygments_lexer": "ipython3",
   "version": "3.7.11"
  }
 },
 "nbformat": 4,
 "nbformat_minor": 2
}
